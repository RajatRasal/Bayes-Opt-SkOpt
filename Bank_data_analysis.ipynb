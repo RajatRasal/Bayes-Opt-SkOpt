{
 "cells": [
  {
   "cell_type": "markdown",
   "metadata": {},
   "source": [
    "# Bank Data Analysis"
   ]
  },
  {
   "cell_type": "markdown",
   "metadata": {},
   "source": [
    "## Motivations"
   ]
  },
  {
   "cell_type": "markdown",
   "metadata": {},
   "source": [
    "#### Outline\n",
    "The purpose of this notebook is do to a rudimental analysis of the **Bank Marketing Data Set** to reach a reasonable degree of accuracy when predicting whether a client will subscribe to a term deposit, and then perform a simple **Bayesian search** using the *scikit-optimise* Python library to find a (near) optimal learning rate.\n",
    "\n",
    "#### Business Application\n",
    "In a business setting, a detailed analysis of this dataset might be done to determine how to be go about a telemarketing campaign. By performing an accurate prediction, we get a better sense of which features most affect the chance of a customer subscribing to a particular service provided by the bank. The bank can then focus their efforts on the features which increase the likelihood of the customer subscribing to a service. \n",
    "\n",
    "#### Academic Application\n",
    "From an academic standpoint, this analysis is a good way to understand how to use the *scikit-optimise* library to perform Bayesian Optimisation. This may not be the best library to perform a Bayesian search, however this is well known to be a easy to use and provide a wide range of functionality. From some prior reading, this dataset is imbalanced. A major challenge when analysing this will arise from how to handle this, without causing a large bias in the results or overfitting due to the majority label.\n",
    "\n",
    "### Contents\n",
    "\n",
    "1. [Loading Dataset](#loading-dataset)  \n",
    "    1.1. Encoding Labels <br>\n",
    "    1.2. Train-Test Split <br> <br>\n",
    "\n",
    "2. [Feautre Analysis & Exploration](#feature-analysis) <br>\n",
    "    2.1 Initial Data Exploration <br>\n",
    "    2.2 Data Visualisation <br>\n",
    "    2.3 Preprocessing <br>\n",
    "    2.4 Writing Bespoke Transformers in Sklearn <br>\n",
    "    2.5 2D Data Visualisation <br>\n",
    "    2.6 Removing Outliers <br> <br>\n",
    "\n",
    "3. [Models](#models) <br>\n",
    "    3.1 Baseline Models <br>\n",
    "    3.2 Feature Importance <br>\n",
    "    3.3 Model Comparison <br>\n",
    "    3.4 Final Model <br> <br>\n",
    "\n",
    "4. [Tuning](#tuning) <br>\n",
    "    4.1 Grid Search <br>\n",
    "    4.2 **Bayesian Search** - using scikit-optimise <br> <br>\n",
    "\n",
    "5. [Evaluation](#evaluation)\n",
    "6. [References](#references)"
   ]
  },
  {
   "cell_type": "code",
   "execution_count": 2,
   "metadata": {
    "collapsed": true
   },
   "outputs": [],
   "source": [
    "import numpy as np\n",
    "import pandas as pd\n",
    "import matplotlib.pyplot as plt\n",
    "import seaborn as sns\n",
    "import warnings\n",
    "\n",
    "warnings.filterwarnings(\"ignore\")\n",
    "plt.style.use(\"Solarize_Light2\")"
   ]
  },
  {
   "cell_type": "markdown",
   "metadata": {},
   "source": [
    "## <span id=\"loading-dataset\"> Loading Dataset </span>"
   ]
  },
  {
   "cell_type": "code",
   "execution_count": 3,
   "metadata": {},
   "outputs": [
    {
     "data": {
      "text/html": [
       "<div>\n",
       "<style scoped>\n",
       "    .dataframe tbody tr th:only-of-type {\n",
       "        vertical-align: middle;\n",
       "    }\n",
       "\n",
       "    .dataframe tbody tr th {\n",
       "        vertical-align: top;\n",
       "    }\n",
       "\n",
       "    .dataframe thead th {\n",
       "        text-align: right;\n",
       "    }\n",
       "</style>\n",
       "<table border=\"1\" class=\"dataframe\">\n",
       "  <thead>\n",
       "    <tr style=\"text-align: right;\">\n",
       "      <th></th>\n",
       "      <th>age</th>\n",
       "      <th>job</th>\n",
       "      <th>marital</th>\n",
       "      <th>education</th>\n",
       "      <th>default</th>\n",
       "      <th>balance</th>\n",
       "      <th>housing</th>\n",
       "      <th>loan</th>\n",
       "      <th>contact</th>\n",
       "      <th>day</th>\n",
       "      <th>month</th>\n",
       "      <th>duration</th>\n",
       "      <th>campaign</th>\n",
       "      <th>pdays</th>\n",
       "      <th>previous</th>\n",
       "      <th>poutcome</th>\n",
       "      <th>y</th>\n",
       "    </tr>\n",
       "  </thead>\n",
       "  <tbody>\n",
       "    <tr>\n",
       "      <th>0</th>\n",
       "      <td>58</td>\n",
       "      <td>management</td>\n",
       "      <td>married</td>\n",
       "      <td>tertiary</td>\n",
       "      <td>no</td>\n",
       "      <td>2143</td>\n",
       "      <td>yes</td>\n",
       "      <td>no</td>\n",
       "      <td>unknown</td>\n",
       "      <td>5</td>\n",
       "      <td>may</td>\n",
       "      <td>261</td>\n",
       "      <td>1</td>\n",
       "      <td>-1</td>\n",
       "      <td>0</td>\n",
       "      <td>unknown</td>\n",
       "      <td>no</td>\n",
       "    </tr>\n",
       "    <tr>\n",
       "      <th>1</th>\n",
       "      <td>44</td>\n",
       "      <td>technician</td>\n",
       "      <td>single</td>\n",
       "      <td>secondary</td>\n",
       "      <td>no</td>\n",
       "      <td>29</td>\n",
       "      <td>yes</td>\n",
       "      <td>no</td>\n",
       "      <td>unknown</td>\n",
       "      <td>5</td>\n",
       "      <td>may</td>\n",
       "      <td>151</td>\n",
       "      <td>1</td>\n",
       "      <td>-1</td>\n",
       "      <td>0</td>\n",
       "      <td>unknown</td>\n",
       "      <td>no</td>\n",
       "    </tr>\n",
       "    <tr>\n",
       "      <th>2</th>\n",
       "      <td>33</td>\n",
       "      <td>entrepreneur</td>\n",
       "      <td>married</td>\n",
       "      <td>secondary</td>\n",
       "      <td>no</td>\n",
       "      <td>2</td>\n",
       "      <td>yes</td>\n",
       "      <td>yes</td>\n",
       "      <td>unknown</td>\n",
       "      <td>5</td>\n",
       "      <td>may</td>\n",
       "      <td>76</td>\n",
       "      <td>1</td>\n",
       "      <td>-1</td>\n",
       "      <td>0</td>\n",
       "      <td>unknown</td>\n",
       "      <td>no</td>\n",
       "    </tr>\n",
       "    <tr>\n",
       "      <th>3</th>\n",
       "      <td>47</td>\n",
       "      <td>blue-collar</td>\n",
       "      <td>married</td>\n",
       "      <td>unknown</td>\n",
       "      <td>no</td>\n",
       "      <td>1506</td>\n",
       "      <td>yes</td>\n",
       "      <td>no</td>\n",
       "      <td>unknown</td>\n",
       "      <td>5</td>\n",
       "      <td>may</td>\n",
       "      <td>92</td>\n",
       "      <td>1</td>\n",
       "      <td>-1</td>\n",
       "      <td>0</td>\n",
       "      <td>unknown</td>\n",
       "      <td>no</td>\n",
       "    </tr>\n",
       "    <tr>\n",
       "      <th>4</th>\n",
       "      <td>33</td>\n",
       "      <td>unknown</td>\n",
       "      <td>single</td>\n",
       "      <td>unknown</td>\n",
       "      <td>no</td>\n",
       "      <td>1</td>\n",
       "      <td>no</td>\n",
       "      <td>no</td>\n",
       "      <td>unknown</td>\n",
       "      <td>5</td>\n",
       "      <td>may</td>\n",
       "      <td>198</td>\n",
       "      <td>1</td>\n",
       "      <td>-1</td>\n",
       "      <td>0</td>\n",
       "      <td>unknown</td>\n",
       "      <td>no</td>\n",
       "    </tr>\n",
       "    <tr>\n",
       "      <th>5</th>\n",
       "      <td>35</td>\n",
       "      <td>management</td>\n",
       "      <td>married</td>\n",
       "      <td>tertiary</td>\n",
       "      <td>no</td>\n",
       "      <td>231</td>\n",
       "      <td>yes</td>\n",
       "      <td>no</td>\n",
       "      <td>unknown</td>\n",
       "      <td>5</td>\n",
       "      <td>may</td>\n",
       "      <td>139</td>\n",
       "      <td>1</td>\n",
       "      <td>-1</td>\n",
       "      <td>0</td>\n",
       "      <td>unknown</td>\n",
       "      <td>no</td>\n",
       "    </tr>\n",
       "    <tr>\n",
       "      <th>6</th>\n",
       "      <td>28</td>\n",
       "      <td>management</td>\n",
       "      <td>single</td>\n",
       "      <td>tertiary</td>\n",
       "      <td>no</td>\n",
       "      <td>447</td>\n",
       "      <td>yes</td>\n",
       "      <td>yes</td>\n",
       "      <td>unknown</td>\n",
       "      <td>5</td>\n",
       "      <td>may</td>\n",
       "      <td>217</td>\n",
       "      <td>1</td>\n",
       "      <td>-1</td>\n",
       "      <td>0</td>\n",
       "      <td>unknown</td>\n",
       "      <td>no</td>\n",
       "    </tr>\n",
       "    <tr>\n",
       "      <th>7</th>\n",
       "      <td>42</td>\n",
       "      <td>entrepreneur</td>\n",
       "      <td>divorced</td>\n",
       "      <td>tertiary</td>\n",
       "      <td>yes</td>\n",
       "      <td>2</td>\n",
       "      <td>yes</td>\n",
       "      <td>no</td>\n",
       "      <td>unknown</td>\n",
       "      <td>5</td>\n",
       "      <td>may</td>\n",
       "      <td>380</td>\n",
       "      <td>1</td>\n",
       "      <td>-1</td>\n",
       "      <td>0</td>\n",
       "      <td>unknown</td>\n",
       "      <td>no</td>\n",
       "    </tr>\n",
       "    <tr>\n",
       "      <th>8</th>\n",
       "      <td>58</td>\n",
       "      <td>retired</td>\n",
       "      <td>married</td>\n",
       "      <td>primary</td>\n",
       "      <td>no</td>\n",
       "      <td>121</td>\n",
       "      <td>yes</td>\n",
       "      <td>no</td>\n",
       "      <td>unknown</td>\n",
       "      <td>5</td>\n",
       "      <td>may</td>\n",
       "      <td>50</td>\n",
       "      <td>1</td>\n",
       "      <td>-1</td>\n",
       "      <td>0</td>\n",
       "      <td>unknown</td>\n",
       "      <td>no</td>\n",
       "    </tr>\n",
       "    <tr>\n",
       "      <th>9</th>\n",
       "      <td>43</td>\n",
       "      <td>technician</td>\n",
       "      <td>single</td>\n",
       "      <td>secondary</td>\n",
       "      <td>no</td>\n",
       "      <td>593</td>\n",
       "      <td>yes</td>\n",
       "      <td>no</td>\n",
       "      <td>unknown</td>\n",
       "      <td>5</td>\n",
       "      <td>may</td>\n",
       "      <td>55</td>\n",
       "      <td>1</td>\n",
       "      <td>-1</td>\n",
       "      <td>0</td>\n",
       "      <td>unknown</td>\n",
       "      <td>no</td>\n",
       "    </tr>\n",
       "  </tbody>\n",
       "</table>\n",
       "</div>"
      ],
      "text/plain": [
       "   age           job   marital  education default  balance housing loan  \\\n",
       "0   58    management   married   tertiary      no     2143     yes   no   \n",
       "1   44    technician    single  secondary      no       29     yes   no   \n",
       "2   33  entrepreneur   married  secondary      no        2     yes  yes   \n",
       "3   47   blue-collar   married    unknown      no     1506     yes   no   \n",
       "4   33       unknown    single    unknown      no        1      no   no   \n",
       "5   35    management   married   tertiary      no      231     yes   no   \n",
       "6   28    management    single   tertiary      no      447     yes  yes   \n",
       "7   42  entrepreneur  divorced   tertiary     yes        2     yes   no   \n",
       "8   58       retired   married    primary      no      121     yes   no   \n",
       "9   43    technician    single  secondary      no      593     yes   no   \n",
       "\n",
       "   contact  day month  duration  campaign  pdays  previous poutcome   y  \n",
       "0  unknown    5   may       261         1     -1         0  unknown  no  \n",
       "1  unknown    5   may       151         1     -1         0  unknown  no  \n",
       "2  unknown    5   may        76         1     -1         0  unknown  no  \n",
       "3  unknown    5   may        92         1     -1         0  unknown  no  \n",
       "4  unknown    5   may       198         1     -1         0  unknown  no  \n",
       "5  unknown    5   may       139         1     -1         0  unknown  no  \n",
       "6  unknown    5   may       217         1     -1         0  unknown  no  \n",
       "7  unknown    5   may       380         1     -1         0  unknown  no  \n",
       "8  unknown    5   may        50         1     -1         0  unknown  no  \n",
       "9  unknown    5   may        55         1     -1         0  unknown  no  "
      ]
     },
     "execution_count": 3,
     "metadata": {},
     "output_type": "execute_result"
    }
   ],
   "source": [
    "df = pd.read_csv(\"./bank-full.csv\", delimiter=\";\")\n",
    "df.head(10)"
   ]
  },
  {
   "cell_type": "markdown",
   "metadata": {},
   "source": [
    "### Encoding Labels"
   ]
  },
  {
   "cell_type": "code",
   "execution_count": 49,
   "metadata": {},
   "outputs": [
    {
     "name": "stdout",
     "output_type": "stream",
     "text": [
      "['no' 'yes']\n"
     ]
    },
    {
     "data": {
      "text/plain": [
       "array([[0],\n",
       "       [0],\n",
       "       [0],\n",
       "       ...,\n",
       "       [1],\n",
       "       [0],\n",
       "       [0]])"
      ]
     },
     "execution_count": 49,
     "metadata": {},
     "output_type": "execute_result"
    }
   ],
   "source": [
    "from sklearn.preprocessing import LabelBinarizer\n",
    "\n",
    "X = df.drop(\"y\", axis=1)\n",
    "y = df.loc[:, \"y\"]\n",
    "\n",
    "lb = LabelBinarizer()\n",
    "y_encoded = lb.fit_transform(y)\n",
    "\n",
    "print(lb.classes_)\n",
    "y_encoded"
   ]
  },
  {
   "cell_type": "markdown",
   "metadata": {},
   "source": [
    "### Train-Test split"
   ]
  },
  {
   "cell_type": "markdown",
   "metadata": {},
   "source": [
    "Split the dataset into a **training and test** sections. The test set will not be used to train any models which are build but will be used when evaluating the performance of a model. It is often common practice to split the training section further into a **validation (developmental) set** also, which is used for evaluating models, with the test set being used to evaluate performance at the very end. I have not done this."
   ]
  },
  {
   "cell_type": "code",
   "execution_count": 5,
   "metadata": {
    "collapsed": true
   },
   "outputs": [],
   "source": [
    "from sklearn.model_selection import train_test_split\n",
    "\n",
    "X_train, X_test, y_train, y_test = train_test_split(\n",
    "    X, y_encoded, test_size=0.1, random_state=42)"
   ]
  },
  {
   "cell_type": "markdown",
   "metadata": {},
   "source": [
    "## <span id=\"feature-analysis\"> Features Analysis & Engineering </span>"
   ]
  },
  {
   "cell_type": "markdown",
   "metadata": {},
   "source": [
    "### Initial Data Exploration"
   ]
  },
  {
   "cell_type": "markdown",
   "metadata": {},
   "source": [
    "Initially, we examine the different types of features in the dataframe. This gives us a sense of how much work we will need to do clean up the dataset (i.e. which columns need to be discretizing or encoding etc.) before it is ready to pass into an algorithm. **We can also determine whether any of these features are categorical or continuous** by seeing what kind of values are in a particular column and how many these are."
   ]
  },
  {
   "cell_type": "code",
   "execution_count": 6,
   "metadata": {
    "scrolled": true
   },
   "outputs": [
    {
     "name": "stdout",
     "output_type": "stream",
     "text": [
      "<class 'pandas.core.frame.DataFrame'>\n",
      "Int64Index: 40689 entries, 14565 to 15795\n",
      "Data columns (total 16 columns):\n",
      "age          40689 non-null int64\n",
      "job          40689 non-null object\n",
      "marital      40689 non-null object\n",
      "education    40689 non-null object\n",
      "default      40689 non-null object\n",
      "balance      40689 non-null int64\n",
      "housing      40689 non-null object\n",
      "loan         40689 non-null object\n",
      "contact      40689 non-null object\n",
      "day          40689 non-null int64\n",
      "month        40689 non-null object\n",
      "duration     40689 non-null int64\n",
      "campaign     40689 non-null int64\n",
      "pdays        40689 non-null int64\n",
      "previous     40689 non-null int64\n",
      "poutcome     40689 non-null object\n",
      "dtypes: int64(7), object(9)\n",
      "memory usage: 5.3+ MB\n"
     ]
    }
   ],
   "source": [
    "X_train.info()"
   ]
  },
  {
   "cell_type": "code",
   "execution_count": 7,
   "metadata": {},
   "outputs": [
    {
     "name": "stdout",
     "output_type": "stream",
     "text": [
      "age\n",
      "[29 57 54 52 34 50 40 43 59 53 35 49 32 28 56 27 39 58 60 41 51 30 33 36\n",
      " 46 31 42 44 48 26 55 25 80 47 23 37 45 38 68 20 79 67 65 64 22 62 73 24\n",
      " 61 21 70 74 82 75 71 76 77 66 86 18 69 83 63 87 81 78 84 19 93 72 89 85\n",
      " 90 94 92 88 95]\n",
      "\n",
      "job\n",
      "['housemaid' 'management' 'blue-collar' 'services' 'admin.' 'technician'\n",
      " 'unemployed' 'retired' 'self-employed' 'entrepreneur' 'unknown' 'student']\n",
      "\n",
      "marital\n",
      "['married' 'divorced' 'single']\n",
      "\n",
      "education\n",
      "['primary' 'secondary' 'tertiary' 'unknown']\n",
      "\n",
      "default\n",
      "['no' 'yes']\n",
      "\n",
      "balance\n",
      "\n",
      "housing\n",
      "['yes' 'no']\n",
      "\n",
      "loan\n",
      "['no' 'yes']\n",
      "\n",
      "contact\n",
      "['cellular' 'unknown' 'telephone']\n",
      "\n",
      "day\n",
      "[15 12  5 10  4  6 16 17 21 28 23 27  2 29  9 26 31 22 13 30  3  8 20 18\n",
      "  7 14 11 25  1 19 24]\n",
      "\n",
      "month\n",
      "['jul' 'aug' 'may' 'nov' 'jun' 'apr' 'jan' 'feb' 'oct' 'mar' 'sep' 'dec']\n",
      "\n",
      "duration\n",
      "\n",
      "campaign\n",
      "[ 3  2  1  4  6 18  8 14 21  5 10 20 13 11 16  7 17 12  9 22 15 28 27 32\n",
      " 30 55 19 26 23 37 29 36 25 31 24 34 33 63 46 38 35 39 43 41 50 58 44 51]\n",
      "\n",
      "pdays\n",
      "\n",
      "previous\n",
      "[  0   2   5   1  23  17   3  11   4  12   8   7   6   9  10  16  13  22\n",
      "  20  24  14  25  18  51  27  15  19  29 275  21  41  30  32  37  38  55\n",
      "  28  35  40  26]\n",
      "\n",
      "poutcome\n",
      "['unknown' 'failure' 'other' 'success']\n",
      "\n"
     ]
    }
   ],
   "source": [
    "features = X_train.columns\n",
    "\n",
    "for col in features:\n",
    "    print(col)\n",
    "    unique = X_train.loc[:, col].unique()\n",
    "    if len(unique) < 100:\n",
    "        print(unique)\n",
    "    print()"
   ]
  },
  {
   "cell_type": "markdown",
   "metadata": {},
   "source": [
    "### Data Visualisation"
   ]
  },
  {
   "cell_type": "markdown",
   "metadata": {},
   "source": [
    "From the cell above, we can see that are many datapoints marked as ** *unknown* ** across multiple features. The below graphs show the distribution of the different categories within certain features in the dataset. There are many ** *unknown* ** datapoints in the ** *poutcome* ** feature but not as many in others. For this reason, it might make sense to drop the ** *poutcome* ** column. For the other features, since the fraction of *unknown* datapoints is not as high, we can do one of two things: \n",
    "\n",
    "   * Imputation to predict the values of the unknowns. \n",
    "   * Drop the unknowns rows if there are not as many. \n"
   ]
  },
  {
   "cell_type": "code",
   "execution_count": 8,
   "metadata": {
    "scrolled": true
   },
   "outputs": [
    {
     "data": {
      "image/png": "[encoded data removed]",
      "text/plain": [
       "<Figure size 1440x360 with 4 Axes>"
      ]
     },
     "metadata": {
      "needs_background": "light"
     },
     "output_type": "display_data"
    }
   ],
   "source": [
    "fig, axes = plt.subplots(nrows=1, ncols=4)\n",
    "\n",
    "fig.suptitle(\"Distribution of Data Points for Categorical Features\")\n",
    "\n",
    "for i, col in enumerate([\"poutcome\", \"contact\", \"education\", \"job\"]):\n",
    "    X_train.groupby(col).count().previous.plot('bar', figsize=(20, 5), ax=axes[i])"
   ]
  },
  {
   "cell_type": "markdown",
   "metadata": {},
   "source": [
    "The below graph show us the frequency of unique values for each feature. If there were too many unique values for a feature it might have been worth discretizing it for the purpose of this problem."
   ]
  },
  {
   "cell_type": "code",
   "execution_count": 9,
   "metadata": {
    "scrolled": false
   },
   "outputs": [
    {
     "data": {
      "image/png": "[encoded data removed]",
      "text/plain": [
       "<Figure size 864x576 with 1 Axes>"
      ]
     },
     "metadata": {
      "needs_background": "light"
     },
     "output_type": "display_data"
    }
   ],
   "source": [
    "features = X_train.columns\n",
    "unique_vals = [len(df.loc[:, col].unique()) for col in features]\n",
    "freq_series = pd.Series(unique_vals)\n",
    "\n",
    "# Plot the figure.\n",
    "plt.figure(figsize=(12, 8))\n",
    "ax = freq_series.plot(kind='bar')\n",
    "ax.set_title('Number of Unique Value by Features')\n",
    "ax.set_xlabel('Unique Values')\n",
    "ax.set_ylabel('Frequency')\n",
    "ax.set_xticklabels(features)\n",
    "\n",
    "# Add value labels for each bar\n",
    "rects = ax.patches\n",
    "\n",
    "for rect, label in zip(rects, unique_vals):\n",
    "    height = rect.get_height()\n",
    "    ax.text(rect.get_x() + rect.get_width() / 2, height + 5, label,\n",
    "            ha='center', va='bottom')"
   ]
  },
  {
   "cell_type": "code",
   "execution_count": 62,
   "metadata": {},
   "outputs": [
    {
     "data": {
      "text/html": [
       "<div>\n",
       "<style scoped>\n",
       "    .dataframe tbody tr th:only-of-type {\n",
       "        vertical-align: middle;\n",
       "    }\n",
       "\n",
       "    .dataframe tbody tr th {\n",
       "        vertical-align: top;\n",
       "    }\n",
       "\n",
       "    .dataframe thead th {\n",
       "        text-align: right;\n",
       "    }\n",
       "</style>\n",
       "<table border=\"1\" class=\"dataframe\">\n",
       "  <thead>\n",
       "    <tr style=\"text-align: right;\">\n",
       "      <th></th>\n",
       "      <th>age</th>\n",
       "      <th>job</th>\n",
       "      <th>marital</th>\n",
       "      <th>education</th>\n",
       "      <th>default</th>\n",
       "      <th>balance</th>\n",
       "      <th>housing</th>\n",
       "      <th>loan</th>\n",
       "      <th>contact</th>\n",
       "      <th>day</th>\n",
       "      <th>month</th>\n",
       "      <th>duration</th>\n",
       "      <th>campaign</th>\n",
       "      <th>pdays</th>\n",
       "      <th>previous</th>\n",
       "      <th>poutcome</th>\n",
       "    </tr>\n",
       "  </thead>\n",
       "  <tbody>\n",
       "    <tr>\n",
       "      <th>14565</th>\n",
       "      <td>29</td>\n",
       "      <td>housemaid</td>\n",
       "      <td>married</td>\n",
       "      <td>primary</td>\n",
       "      <td>no</td>\n",
       "      <td>0</td>\n",
       "      <td>yes</td>\n",
       "      <td>no</td>\n",
       "      <td>cellular</td>\n",
       "      <td>15</td>\n",
       "      <td>jul</td>\n",
       "      <td>317</td>\n",
       "      <td>3</td>\n",
       "      <td>-1</td>\n",
       "      <td>0</td>\n",
       "      <td>unknown</td>\n",
       "    </tr>\n",
       "    <tr>\n",
       "      <th>20546</th>\n",
       "      <td>57</td>\n",
       "      <td>management</td>\n",
       "      <td>divorced</td>\n",
       "      <td>secondary</td>\n",
       "      <td>no</td>\n",
       "      <td>396</td>\n",
       "      <td>no</td>\n",
       "      <td>no</td>\n",
       "      <td>cellular</td>\n",
       "      <td>12</td>\n",
       "      <td>aug</td>\n",
       "      <td>108</td>\n",
       "      <td>2</td>\n",
       "      <td>-1</td>\n",
       "      <td>0</td>\n",
       "      <td>unknown</td>\n",
       "    </tr>\n",
       "    <tr>\n",
       "      <th>34495</th>\n",
       "      <td>54</td>\n",
       "      <td>blue-collar</td>\n",
       "      <td>married</td>\n",
       "      <td>primary</td>\n",
       "      <td>no</td>\n",
       "      <td>714</td>\n",
       "      <td>no</td>\n",
       "      <td>no</td>\n",
       "      <td>cellular</td>\n",
       "      <td>5</td>\n",
       "      <td>may</td>\n",
       "      <td>225</td>\n",
       "      <td>1</td>\n",
       "      <td>-1</td>\n",
       "      <td>0</td>\n",
       "      <td>unknown</td>\n",
       "    </tr>\n",
       "    <tr>\n",
       "      <th>13814</th>\n",
       "      <td>52</td>\n",
       "      <td>services</td>\n",
       "      <td>married</td>\n",
       "      <td>secondary</td>\n",
       "      <td>no</td>\n",
       "      <td>2072</td>\n",
       "      <td>no</td>\n",
       "      <td>no</td>\n",
       "      <td>cellular</td>\n",
       "      <td>10</td>\n",
       "      <td>jul</td>\n",
       "      <td>224</td>\n",
       "      <td>1</td>\n",
       "      <td>-1</td>\n",
       "      <td>0</td>\n",
       "      <td>unknown</td>\n",
       "    </tr>\n",
       "    <tr>\n",
       "      <th>42153</th>\n",
       "      <td>34</td>\n",
       "      <td>management</td>\n",
       "      <td>married</td>\n",
       "      <td>tertiary</td>\n",
       "      <td>no</td>\n",
       "      <td>1778</td>\n",
       "      <td>no</td>\n",
       "      <td>no</td>\n",
       "      <td>cellular</td>\n",
       "      <td>4</td>\n",
       "      <td>nov</td>\n",
       "      <td>358</td>\n",
       "      <td>1</td>\n",
       "      <td>162</td>\n",
       "      <td>2</td>\n",
       "      <td>failure</td>\n",
       "    </tr>\n",
       "  </tbody>\n",
       "</table>\n",
       "</div>"
      ],
      "text/plain": [
       "       age          job   marital  education default  balance housing loan  \\\n",
       "14565   29    housemaid   married    primary      no        0     yes   no   \n",
       "20546   57   management  divorced  secondary      no      396      no   no   \n",
       "34495   54  blue-collar   married    primary      no      714      no   no   \n",
       "13814   52     services   married  secondary      no     2072      no   no   \n",
       "42153   34   management   married   tertiary      no     1778      no   no   \n",
       "\n",
       "        contact  day month  duration  campaign  pdays  previous poutcome  \n",
       "14565  cellular   15   jul       317         3     -1         0  unknown  \n",
       "20546  cellular   12   aug       108         2     -1         0  unknown  \n",
       "34495  cellular    5   may       225         1     -1         0  unknown  \n",
       "13814  cellular   10   jul       224         1     -1         0  unknown  \n",
       "42153  cellular    4   nov       358         1    162         2  failure  "
      ]
     },
     "execution_count": 62,
     "metadata": {},
     "output_type": "execute_result"
    }
   ],
   "source": [
    "X_train.head()"
   ]
  },
  {
   "cell_type": "markdown",
   "metadata": {},
   "source": [
    "### Preprocessing "
   ]
  },
  {
   "cell_type": "markdown",
   "metadata": {},
   "source": [
    "From the previous conclusions we need to perform some transformations on our dataset so that we can fit a model on it without having to lose too much information (i.e. delete too many rows or columns). The main way to do this is to encode the categorical features which are not integers. \n",
    "\n",
    "In the case of the ** *month* ** and ** *education* ** features, I have given them specific numbers, as opposed to using the sklearn encoders, since I want to enforce some kind of order on these data points. This ordering may be useful when looking for correlations and identifying redundant data points or when making conclusions on the final set of predictions, such as noticing seasonlity trends. **Having a known ordering can make the results easier to interpret.**"
   ]
  },
  {
   "cell_type": "code",
   "execution_count": 11,
   "metadata": {},
   "outputs": [
    {
     "name": "stdout",
     "output_type": "stream",
     "text": [
      "<class 'pandas.core.frame.DataFrame'>\n",
      "Int64Index: 40689 entries, 14565 to 15795\n",
      "Data columns (total 16 columns):\n",
      "age          40689 non-null int64\n",
      "job          40689 non-null object\n",
      "marital      40689 non-null object\n",
      "education    40689 non-null int64\n",
      "default      40689 non-null int64\n",
      "balance      40689 non-null int64\n",
      "housing      40689 non-null int64\n",
      "loan         40689 non-null int64\n",
      "contact      40689 non-null object\n",
      "day          40689 non-null int64\n",
      "month        40689 non-null int64\n",
      "duration     40689 non-null int64\n",
      "campaign     40689 non-null int64\n",
      "pdays        40689 non-null int64\n",
      "previous     40689 non-null int64\n",
      "poutcome     40689 non-null object\n",
      "dtypes: int64(12), object(4)\n",
      "memory usage: 5.3+ MB\n"
     ]
    }
   ],
   "source": [
    "from sklearn.compose import ColumnTransformer\n",
    "from sklearn.preprocessing import OrdinalEncoder\n",
    "\n",
    "corr_df = X_train.copy()\n",
    "\n",
    "months = {\"jan\": 1, \"feb\": 2, \"mar\": 3, \"apr\": 4, \"may\": 5, \"jun\": 6, \n",
    "          \"jul\": 7, \"aug\": 8, \"sep\": 9, \"oct\": 10, \"nov\": 11, \"dec\": 12}\n",
    "corr_df.month = corr_df.month.apply(lambda x: months[x])\n",
    "\n",
    "edu = {\"unknown\": 0, \"primary\": 1, \"secondary\": 2, \"tertiary\": 3}\n",
    "corr_df.education = corr_df.education.apply(lambda x: edu[x])\n",
    "\n",
    "bin_map = {\"yes\": 1, \"no\": 0}\n",
    "bin_cols = corr_df.loc[:, [\"default\", \"housing\", \"loan\"]].apply(\n",
    "    lambda x: x.map(bin_map))\n",
    "corr_df.loc[:, [\"default\", \"housing\", \"loan\"]] = bin_cols\n",
    "\n",
    "corr_df.info()"
   ]
  },
  {
   "cell_type": "markdown",
   "metadata": {},
   "source": [
    "It is important to notice whether there is any correlation between features. If there is, then both features are not needed for the model to be trained on and one can be dropped. **We can check for correlation by calculating the PMCC between features and plotting this in the correlation matrix (seen below).** There are clearly no strongly correlated features. "
   ]
  },
  {
   "cell_type": "code",
   "execution_count": 12,
   "metadata": {
    "scrolled": false
   },
   "outputs": [
    {
     "data": {
      "text/plain": [
       "[]"
      ]
     },
     "execution_count": 12,
     "metadata": {},
     "output_type": "execute_result"
    },
    {
     "data": {
      "image/png": "[encoded data removed]",
      "text/plain": [
       "<Figure size 1440x720 with 2 Axes>"
      ]
     },
     "metadata": {
      "needs_background": "light"
     },
     "output_type": "display_data"
    }
   ],
   "source": [
    "fig, ax = plt.subplots(nrows=1, ncols=1, figsize=(20, 10))\n",
    "sns.heatmap(corr_df.corr(), annot=True, ax=ax)\n",
    "plt.plot()"
   ]
  },
  {
   "cell_type": "markdown",
   "metadata": {},
   "source": [
    "### Writing Bespoke Transformers for Sklearn"
   ]
  },
  {
   "cell_type": "markdown",
   "metadata": {},
   "source": [
    "In order to implement the transformation to the dataset when deploying the code, **we can write a series of classes which implement the sklearn interface for transformers.** These can then be put into an sklearn pipeline and called through the execution of the pipeline. \n",
    "\n",
    "The below classes are made to take in a dataframe as opposed to a standard numpy array to make the preprocessing pipeline easier to test and use for programmers."
   ]
  },
  {
   "cell_type": "code",
   "execution_count": 64,
   "metadata": {
    "collapsed": true
   },
   "outputs": [],
   "source": [
    "from sklearn.base import TransformerMixin, BaseEstimator\n",
    "from sklearn.preprocessing import LabelEncoder\n",
    "from collections import OrderedDict\n",
    "\n",
    "\n",
    "class DataframeFeatureDrop(BaseEstimator, TransformerMixin):\n",
    "    \"\"\"\n",
    "    Implements Scikit learn interface for transformers.\n",
    "    \n",
    "    Drop specified columns/features in a dataframe.\n",
    "    \"\"\"\n",
    "    def __init__(self, drop_attrs):\n",
    "        self.drop_attrs = drop_attrs\n",
    "    \n",
    "    def fit(self, X, y=None):\n",
    "        return self\n",
    "    \n",
    "    def transform(self, X):\n",
    "        return X.drop(self.drop_attrs, axis=1)\n",
    "    \n",
    "    \n",
    "class DataframeFeatureMapping(BaseEstimator, TransformerMixin):\n",
    "    \"\"\"\n",
    "    Implements Scikit learn interface for transformers.\n",
    "    \n",
    "    Maps data points to user-specified values using a dictionary,\n",
    "    as opposed to default scikit learn encoders. \n",
    "    \"\"\"\n",
    "    def __init__(self, **kwargs):\n",
    "        self.kwargs = kwargs\n",
    "    \n",
    "    def fit(self, X, y=None):\n",
    "        return self\n",
    "    \n",
    "    def transform(self, X):\n",
    "        tmp = X.copy()\n",
    "        for col, mapping in self.kwargs.items():\n",
    "            tmp.loc[:, col] = tmp.loc[:, col].apply(lambda x: mapping[x])\n",
    "        return tmp\n",
    "    \n",
    "    \n",
    "def generate_categorical_encoder(df, features_to_encode):\n",
    "    encoders = OrderedDict()\n",
    "    all_features = list(df.columns)\n",
    "    \n",
    "    for col in features_to_encode:\n",
    "        if col in all_features and df.loc[:, col].dtype == object:\n",
    "            col_index = all_features.index(col)\n",
    "            encoders[col_index] = OrdinalEncoder()\n",
    "                \n",
    "    return encoders\n",
    "    \n",
    "    \n",
    "class DataframeCategoricalEncoding(BaseEstimator, TransformerMixin):\n",
    "    \"\"\"\n",
    "    Implements Scikit learn interface for transformers.\n",
    "    \n",
    "    Encodes multiple features using build in scikit learn encoders.\n",
    "    \"\"\"\n",
    "    def __init__(self, features_to_encode):\n",
    "        self.features_to_encode = features_to_encode\n",
    "\n",
    "    def fit(self, X, y=None):\n",
    "        self.__categorical_encs = generate_categorical_encoder(\n",
    "            X, self.features_to_encode)\n",
    "        \n",
    "        for col, enc in self.__categorical_encs.items():\n",
    "            enc.fit(X.values[:, col].reshape(-1, 1))\n",
    "        \n",
    "        return self\n",
    "    \n",
    "    def transform(self, X):\n",
    "        encoder_attr = \"_DataframeCategoricalEncoding__categorical_encs\"\n",
    "\n",
    "        if hasattr(self, encoder_attr):\n",
    "            X_tmp = X.copy()\n",
    "            for col, enc in self.__categorical_encs.items():\n",
    "                enc_col = enc.transform(X_tmp.values[:, col].reshape(-1, 1))\n",
    "                X_tmp.iloc[:, col] = enc_col.reshape(-1, 1)\n",
    "            res = X_tmp\n",
    "        else:\n",
    "            res = self.fit_transform(X)\n",
    "\n",
    "        return res"
   ]
  },
  {
   "cell_type": "markdown",
   "metadata": {},
   "source": [
    "**Contains an example of how to use the above transformers in an sklearn pipeline.**"
   ]
  },
  {
   "cell_type": "code",
   "execution_count": 19,
   "metadata": {},
   "outputs": [
    {
     "data": {
      "text/html": [
       "<div>\n",
       "<style scoped>\n",
       "    .dataframe tbody tr th:only-of-type {\n",
       "        vertical-align: middle;\n",
       "    }\n",
       "\n",
       "    .dataframe tbody tr th {\n",
       "        vertical-align: top;\n",
       "    }\n",
       "\n",
       "    .dataframe thead th {\n",
       "        text-align: right;\n",
       "    }\n",
       "</style>\n",
       "<table border=\"1\" class=\"dataframe\">\n",
       "  <thead>\n",
       "    <tr style=\"text-align: right;\">\n",
       "      <th></th>\n",
       "      <th>age</th>\n",
       "      <th>job</th>\n",
       "      <th>marital</th>\n",
       "      <th>education</th>\n",
       "      <th>default</th>\n",
       "      <th>balance</th>\n",
       "      <th>housing</th>\n",
       "      <th>loan</th>\n",
       "      <th>contact</th>\n",
       "      <th>day</th>\n",
       "      <th>month</th>\n",
       "      <th>duration</th>\n",
       "      <th>campaign</th>\n",
       "      <th>pdays</th>\n",
       "      <th>previous</th>\n",
       "    </tr>\n",
       "  </thead>\n",
       "  <tbody>\n",
       "    <tr>\n",
       "      <th>14565</th>\n",
       "      <td>29</td>\n",
       "      <td>3.0</td>\n",
       "      <td>1.0</td>\n",
       "      <td>1</td>\n",
       "      <td>0</td>\n",
       "      <td>0</td>\n",
       "      <td>1</td>\n",
       "      <td>0</td>\n",
       "      <td>0.0</td>\n",
       "      <td>15</td>\n",
       "      <td>7</td>\n",
       "      <td>317</td>\n",
       "      <td>3</td>\n",
       "      <td>-1</td>\n",
       "      <td>0</td>\n",
       "    </tr>\n",
       "    <tr>\n",
       "      <th>20546</th>\n",
       "      <td>57</td>\n",
       "      <td>4.0</td>\n",
       "      <td>0.0</td>\n",
       "      <td>2</td>\n",
       "      <td>0</td>\n",
       "      <td>396</td>\n",
       "      <td>0</td>\n",
       "      <td>0</td>\n",
       "      <td>0.0</td>\n",
       "      <td>12</td>\n",
       "      <td>8</td>\n",
       "      <td>108</td>\n",
       "      <td>2</td>\n",
       "      <td>-1</td>\n",
       "      <td>0</td>\n",
       "    </tr>\n",
       "    <tr>\n",
       "      <th>34495</th>\n",
       "      <td>54</td>\n",
       "      <td>1.0</td>\n",
       "      <td>1.0</td>\n",
       "      <td>1</td>\n",
       "      <td>0</td>\n",
       "      <td>714</td>\n",
       "      <td>0</td>\n",
       "      <td>0</td>\n",
       "      <td>0.0</td>\n",
       "      <td>5</td>\n",
       "      <td>5</td>\n",
       "      <td>225</td>\n",
       "      <td>1</td>\n",
       "      <td>-1</td>\n",
       "      <td>0</td>\n",
       "    </tr>\n",
       "    <tr>\n",
       "      <th>13814</th>\n",
       "      <td>52</td>\n",
       "      <td>7.0</td>\n",
       "      <td>1.0</td>\n",
       "      <td>2</td>\n",
       "      <td>0</td>\n",
       "      <td>2072</td>\n",
       "      <td>0</td>\n",
       "      <td>0</td>\n",
       "      <td>0.0</td>\n",
       "      <td>10</td>\n",
       "      <td>7</td>\n",
       "      <td>224</td>\n",
       "      <td>1</td>\n",
       "      <td>-1</td>\n",
       "      <td>0</td>\n",
       "    </tr>\n",
       "    <tr>\n",
       "      <th>42153</th>\n",
       "      <td>34</td>\n",
       "      <td>4.0</td>\n",
       "      <td>1.0</td>\n",
       "      <td>3</td>\n",
       "      <td>0</td>\n",
       "      <td>1778</td>\n",
       "      <td>0</td>\n",
       "      <td>0</td>\n",
       "      <td>0.0</td>\n",
       "      <td>4</td>\n",
       "      <td>11</td>\n",
       "      <td>358</td>\n",
       "      <td>1</td>\n",
       "      <td>162</td>\n",
       "      <td>2</td>\n",
       "    </tr>\n",
       "  </tbody>\n",
       "</table>\n",
       "</div>"
      ],
      "text/plain": [
       "       age  job  marital  education  default  balance  housing  loan  contact  \\\n",
       "14565   29  3.0      1.0          1        0        0        1     0      0.0   \n",
       "20546   57  4.0      0.0          2        0      396        0     0      0.0   \n",
       "34495   54  1.0      1.0          1        0      714        0     0      0.0   \n",
       "13814   52  7.0      1.0          2        0     2072        0     0      0.0   \n",
       "42153   34  4.0      1.0          3        0     1778        0     0      0.0   \n",
       "\n",
       "       day  month  duration  campaign  pdays  previous  \n",
       "14565   15      7       317         3     -1         0  \n",
       "20546   12      8       108         2     -1         0  \n",
       "34495    5      5       225         1     -1         0  \n",
       "13814   10      7       224         1     -1         0  \n",
       "42153    4     11       358         1    162         2  "
      ]
     },
     "execution_count": 19,
     "metadata": {},
     "output_type": "execute_result"
    }
   ],
   "source": [
    "from sklearn.pipeline import Pipeline\n",
    "\n",
    "months = {\"jan\": 1, \"feb\": 2, \"mar\": 3, \"apr\": 4, \"may\": 5, \"jun\": 6, \n",
    "          \"jul\": 7, \"aug\": 8, \"sep\": 9, \"oct\": 10, \"nov\": 11, \"dec\": 12}\n",
    "edu = {\"unknown\": 0, \"primary\": 1, \"secondary\": 2, \"tertiary\": 3}\n",
    "bin_map = {\"yes\": 1, \"no\": 0}\n",
    "\n",
    "maps = {\"month\": months, \"education\": edu, \"default\": bin_map, \n",
    "        \"housing\": bin_map, \"loan\": bin_map}\n",
    "\n",
    "trn_pipe = Pipeline([\n",
    "    (\"feature_drop\", DataframeFeatureDrop([\"poutcome\"])),\n",
    "    (\"feature_map\", DataframeFeatureMapping(**maps)),\n",
    "    (\"categorical_enc\", DataframeCategoricalEncoding([\"job\", \"marital\", \"contact\"]))\n",
    "])\n",
    "\n",
    "X_train_pipe = trn_pipe.fit_transform(X_train)\n",
    "X_train_pipe.head()"
   ]
  },
  {
   "cell_type": "markdown",
   "metadata": {},
   "source": [
    "### Dataset Visualisation in 2D"
   ]
  },
  {
   "cell_type": "markdown",
   "metadata": {},
   "source": [
    "From the 2D visualisation, we get a sense of there are **more 0 labels than 1 labels**. Hence some kind of class-weight balancing will need to be done when fitting the data to a model. There are also many outliers with a 0 label which will affect the accuracy with which the model can fit 1s."
   ]
  },
  {
   "cell_type": "code",
   "execution_count": 69,
   "metadata": {},
   "outputs": [
    {
     "data": {
      "image/png": "[encoded data removed]",
      "text/plain": [
       "<Figure size 1440x720 with 1 Axes>"
      ]
     },
     "metadata": {
      "needs_background": "light"
     },
     "output_type": "display_data"
    }
   ],
   "source": [
    "from sklearn.decomposition import PCA\n",
    "\n",
    "def plot_dataset(X, y):\n",
    "    pca = PCA(2, random_state=42)\n",
    "    projected = pca.fit_transform(X)\n",
    "\n",
    "    plt.figure(figsize=(20, 10))\n",
    "\n",
    "    for i, c, label in zip(range(len(y)), 'rg', set(y)):\n",
    "        plt.scatter(projected[y == i, 0], projected[y == i, 1],\n",
    "                    marker='x', c=c, label=label)\n",
    "\n",
    "    plt.title(\"2D Visualisation of Dataset\")\n",
    "    plt.legend()\n",
    "    plt.show()\n",
    "    \n",
    "plot_dataset(X_train_pipe.values, y_train.reshape(-1))"
   ]
  },
  {
   "cell_type": "markdown",
   "metadata": {},
   "source": [
    "### Removing Outliers"
   ]
  },
  {
   "cell_type": "markdown",
   "metadata": {},
   "source": [
    "Outliers will be detected using the z_score metric."
   ]
  },
  {
   "cell_type": "code",
   "execution_count": 70,
   "metadata": {},
   "outputs": [
    {
     "data": {
      "text/html": [
       "<div>\n",
       "<style scoped>\n",
       "    .dataframe tbody tr th:only-of-type {\n",
       "        vertical-align: middle;\n",
       "    }\n",
       "\n",
       "    .dataframe tbody tr th {\n",
       "        vertical-align: top;\n",
       "    }\n",
       "\n",
       "    .dataframe thead th {\n",
       "        text-align: right;\n",
       "    }\n",
       "</style>\n",
       "<table border=\"1\" class=\"dataframe\">\n",
       "  <thead>\n",
       "    <tr style=\"text-align: right;\">\n",
       "      <th></th>\n",
       "      <th>age</th>\n",
       "      <th>job</th>\n",
       "      <th>marital</th>\n",
       "      <th>education</th>\n",
       "      <th>default</th>\n",
       "      <th>balance</th>\n",
       "      <th>housing</th>\n",
       "      <th>loan</th>\n",
       "      <th>contact</th>\n",
       "      <th>day</th>\n",
       "      <th>month</th>\n",
       "      <th>duration</th>\n",
       "      <th>campaign</th>\n",
       "      <th>pdays</th>\n",
       "      <th>previous</th>\n",
       "      <th>poutcome</th>\n",
       "    </tr>\n",
       "  </thead>\n",
       "  <tbody>\n",
       "    <tr>\n",
       "      <th>14565</th>\n",
       "      <td>29</td>\n",
       "      <td>housemaid</td>\n",
       "      <td>married</td>\n",
       "      <td>1</td>\n",
       "      <td>0</td>\n",
       "      <td>0</td>\n",
       "      <td>1</td>\n",
       "      <td>0</td>\n",
       "      <td>cellular</td>\n",
       "      <td>15</td>\n",
       "      <td>7</td>\n",
       "      <td>317</td>\n",
       "      <td>3</td>\n",
       "      <td>-1</td>\n",
       "      <td>0</td>\n",
       "      <td>unknown</td>\n",
       "    </tr>\n",
       "    <tr>\n",
       "      <th>20546</th>\n",
       "      <td>57</td>\n",
       "      <td>management</td>\n",
       "      <td>divorced</td>\n",
       "      <td>2</td>\n",
       "      <td>0</td>\n",
       "      <td>396</td>\n",
       "      <td>0</td>\n",
       "      <td>0</td>\n",
       "      <td>cellular</td>\n",
       "      <td>12</td>\n",
       "      <td>8</td>\n",
       "      <td>108</td>\n",
       "      <td>2</td>\n",
       "      <td>-1</td>\n",
       "      <td>0</td>\n",
       "      <td>unknown</td>\n",
       "    </tr>\n",
       "    <tr>\n",
       "      <th>34495</th>\n",
       "      <td>54</td>\n",
       "      <td>blue-collar</td>\n",
       "      <td>married</td>\n",
       "      <td>1</td>\n",
       "      <td>0</td>\n",
       "      <td>714</td>\n",
       "      <td>0</td>\n",
       "      <td>0</td>\n",
       "      <td>cellular</td>\n",
       "      <td>5</td>\n",
       "      <td>5</td>\n",
       "      <td>225</td>\n",
       "      <td>1</td>\n",
       "      <td>-1</td>\n",
       "      <td>0</td>\n",
       "      <td>unknown</td>\n",
       "    </tr>\n",
       "    <tr>\n",
       "      <th>13814</th>\n",
       "      <td>52</td>\n",
       "      <td>services</td>\n",
       "      <td>married</td>\n",
       "      <td>2</td>\n",
       "      <td>0</td>\n",
       "      <td>2072</td>\n",
       "      <td>0</td>\n",
       "      <td>0</td>\n",
       "      <td>cellular</td>\n",
       "      <td>10</td>\n",
       "      <td>7</td>\n",
       "      <td>224</td>\n",
       "      <td>1</td>\n",
       "      <td>-1</td>\n",
       "      <td>0</td>\n",
       "      <td>unknown</td>\n",
       "    </tr>\n",
       "    <tr>\n",
       "      <th>42153</th>\n",
       "      <td>34</td>\n",
       "      <td>management</td>\n",
       "      <td>married</td>\n",
       "      <td>3</td>\n",
       "      <td>0</td>\n",
       "      <td>1778</td>\n",
       "      <td>0</td>\n",
       "      <td>0</td>\n",
       "      <td>cellular</td>\n",
       "      <td>4</td>\n",
       "      <td>11</td>\n",
       "      <td>358</td>\n",
       "      <td>1</td>\n",
       "      <td>162</td>\n",
       "      <td>2</td>\n",
       "      <td>failure</td>\n",
       "    </tr>\n",
       "    <tr>\n",
       "      <th>19443</th>\n",
       "      <td>50</td>\n",
       "      <td>admin.</td>\n",
       "      <td>married</td>\n",
       "      <td>2</td>\n",
       "      <td>0</td>\n",
       "      <td>706</td>\n",
       "      <td>1</td>\n",
       "      <td>0</td>\n",
       "      <td>cellular</td>\n",
       "      <td>6</td>\n",
       "      <td>8</td>\n",
       "      <td>1250</td>\n",
       "      <td>4</td>\n",
       "      <td>-1</td>\n",
       "      <td>0</td>\n",
       "      <td>unknown</td>\n",
       "    </tr>\n",
       "    <tr>\n",
       "      <th>14942</th>\n",
       "      <td>40</td>\n",
       "      <td>technician</td>\n",
       "      <td>single</td>\n",
       "      <td>2</td>\n",
       "      <td>0</td>\n",
       "      <td>641</td>\n",
       "      <td>0</td>\n",
       "      <td>0</td>\n",
       "      <td>cellular</td>\n",
       "      <td>16</td>\n",
       "      <td>7</td>\n",
       "      <td>156</td>\n",
       "      <td>6</td>\n",
       "      <td>-1</td>\n",
       "      <td>0</td>\n",
       "      <td>unknown</td>\n",
       "    </tr>\n",
       "    <tr>\n",
       "      <th>3277</th>\n",
       "      <td>43</td>\n",
       "      <td>unemployed</td>\n",
       "      <td>married</td>\n",
       "      <td>1</td>\n",
       "      <td>0</td>\n",
       "      <td>960</td>\n",
       "      <td>1</td>\n",
       "      <td>1</td>\n",
       "      <td>unknown</td>\n",
       "      <td>15</td>\n",
       "      <td>5</td>\n",
       "      <td>241</td>\n",
       "      <td>2</td>\n",
       "      <td>-1</td>\n",
       "      <td>0</td>\n",
       "      <td>unknown</td>\n",
       "    </tr>\n",
       "    <tr>\n",
       "      <th>15158</th>\n",
       "      <td>59</td>\n",
       "      <td>retired</td>\n",
       "      <td>married</td>\n",
       "      <td>3</td>\n",
       "      <td>0</td>\n",
       "      <td>6108</td>\n",
       "      <td>1</td>\n",
       "      <td>0</td>\n",
       "      <td>cellular</td>\n",
       "      <td>17</td>\n",
       "      <td>7</td>\n",
       "      <td>796</td>\n",
       "      <td>2</td>\n",
       "      <td>-1</td>\n",
       "      <td>0</td>\n",
       "      <td>unknown</td>\n",
       "    </tr>\n",
       "    <tr>\n",
       "      <th>27468</th>\n",
       "      <td>53</td>\n",
       "      <td>management</td>\n",
       "      <td>married</td>\n",
       "      <td>2</td>\n",
       "      <td>0</td>\n",
       "      <td>2693</td>\n",
       "      <td>0</td>\n",
       "      <td>0</td>\n",
       "      <td>cellular</td>\n",
       "      <td>21</td>\n",
       "      <td>11</td>\n",
       "      <td>140</td>\n",
       "      <td>1</td>\n",
       "      <td>-1</td>\n",
       "      <td>0</td>\n",
       "      <td>unknown</td>\n",
       "    </tr>\n",
       "  </tbody>\n",
       "</table>\n",
       "</div>"
      ],
      "text/plain": [
       "       age          job   marital  education  default  balance  housing  loan  \\\n",
       "14565   29    housemaid   married          1        0        0        1     0   \n",
       "20546   57   management  divorced          2        0      396        0     0   \n",
       "34495   54  blue-collar   married          1        0      714        0     0   \n",
       "13814   52     services   married          2        0     2072        0     0   \n",
       "42153   34   management   married          3        0     1778        0     0   \n",
       "19443   50       admin.   married          2        0      706        1     0   \n",
       "14942   40   technician    single          2        0      641        0     0   \n",
       "3277    43   unemployed   married          1        0      960        1     1   \n",
       "15158   59      retired   married          3        0     6108        1     0   \n",
       "27468   53   management   married          2        0     2693        0     0   \n",
       "\n",
       "        contact  day  month  duration  campaign  pdays  previous poutcome  \n",
       "14565  cellular   15      7       317         3     -1         0  unknown  \n",
       "20546  cellular   12      8       108         2     -1         0  unknown  \n",
       "34495  cellular    5      5       225         1     -1         0  unknown  \n",
       "13814  cellular   10      7       224         1     -1         0  unknown  \n",
       "42153  cellular    4     11       358         1    162         2  failure  \n",
       "19443  cellular    6      8      1250         4     -1         0  unknown  \n",
       "14942  cellular   16      7       156         6     -1         0  unknown  \n",
       "3277    unknown   15      5       241         2     -1         0  unknown  \n",
       "15158  cellular   17      7       796         2     -1         0  unknown  \n",
       "27468  cellular   21     11       140         1     -1         0  unknown  "
      ]
     },
     "execution_count": 70,
     "metadata": {},
     "output_type": "execute_result"
    }
   ],
   "source": [
    "from scipy import stats\n",
    "from collections import Counter\n",
    "\n",
    "z_threshold = 3\n",
    "z = np.abs(stats.zscore(corr_df.select_dtypes(\"int\")))\n",
    "z_outliers = np.where(z > z_threshold)\n",
    "\n",
    "if len(z_outliers[0]) < len(corr_df) * 0.05:\n",
    "    corr_df.drop(corr_df.iloc[z_outliers[0]].index, inplace=True)\n",
    "    \n",
    "corr_df.head(10)"
   ]
  },
  {
   "cell_type": "code",
   "execution_count": 73,
   "metadata": {
    "collapsed": true
   },
   "outputs": [],
   "source": [
    "def remove_outliers(X_train, y_train):\n",
    "    X_tmp = X_train.copy()\n",
    "    y_tmp = y_train.copy()\n",
    "    \n",
    "    z_threshold = 4\n",
    "    z = np.abs(stats.zscore(X_train))\n",
    "    z_outliers = np.where(z > z_threshold)\n",
    "        \n",
    "    if len(z_outliers[0]) < len(X_train) * 0.1:\n",
    "        mask = np.ones(len(X_tmp), dtype=bool)\n",
    "        mask[z_outliers[0]] = False\n",
    "        X_tmp = X_tmp[mask, :]\n",
    "        y_tmp = y_tmp[mask, :]\n",
    "    else:\n",
    "        pass # use imputation\n",
    "    \n",
    "    return X_tmp, y_tmp\n",
    "\n",
    "x_t, y_t = remove_outliers(X_train_pipe.values, y_train)"
   ]
  },
  {
   "cell_type": "markdown",
   "metadata": {},
   "source": [
    "## <span id=\"models\"> Models </span>"
   ]
  },
  {
   "cell_type": "markdown",
   "metadata": {},
   "source": [
    "As a baseline I will be using an SVM model since we have labelled data and a dataset with less than a 100k data points.\n",
    "\n",
    "The more advance models need to take into account the fact that the data has such a large imbalance. This could be done by:\n",
    "- using balanced class weights\n",
    "- an ensemble model\n",
    "- \n",
    "\n",
    "For these reasons, my more advance models will be:\n",
    "\n",
    "1. **Random Forest Classifier** - reduces potential overfitting which we be caused by the imbalanced class ratio.\n",
    "\n",
    "2. **Gradient Boosting Classifier** - reduces potential overfitting which we be caused by the imbalanced class ratio.\n",
    "\n",
    "3. **Edited Nearest Neighours Classifier (ENN)** - majority instances are removed if they are not within the K-nearest neighbours.\n",
    "\n",
    "4. **Synthetic Minority Over-sampling Technique (SMOTE)** - takes into account the K-nearest neighbours of the minority instances and then creates more data points for the minority class until the ratio of minority to majority instances reaches a given value."
   ]
  },
  {
   "cell_type": "markdown",
   "metadata": {},
   "source": [
    "#### Accuracy Metrics"
   ]
  },
  {
   "cell_type": "code",
   "execution_count": 27,
   "metadata": {
    "collapsed": true
   },
   "outputs": [],
   "source": [
    "from sklearn.metrics import accuracy_score, classification_report"
   ]
  },
  {
   "cell_type": "code",
   "execution_count": 614,
   "metadata": {
    "collapsed": true
   },
   "outputs": [],
   "source": [
    "def in_out_accuracy(fit_model, y_train, y_train_pred, y_test, y_test_pred):\n",
    "    training_acc = accuracy_score(y_train, y_train_pred)\n",
    "    testing_acc = accuracy_score(y_test, y_test_pred)\n",
    "    \n",
    "    return {\"training_acc\": training_acc, \"testing_acc\": testing_acc}"
   ]
  },
  {
   "cell_type": "code",
   "execution_count": 612,
   "metadata": {
    "collapsed": true
   },
   "outputs": [],
   "source": [
    "def display_accuracy(accuracy_dict):\n",
    "    training_acc = accuracy_dict[\"training_acc\"]\n",
    "    testing_acc = accuracy_dict[\"testing_acc\"]\n",
    "    \n",
    "    print(f\"Training Acc: {training_acc}, Testing Acc: {testing_acc}\")"
   ]
  },
  {
   "cell_type": "markdown",
   "metadata": {},
   "source": [
    "#### Baseline Preprocessing"
   ]
  },
  {
   "cell_type": "code",
   "execution_count": 607,
   "metadata": {
    "collapsed": true
   },
   "outputs": [],
   "source": [
    "# Train Data Preprocessing\n",
    "trn_pipe = Pipeline([\n",
    "    (\"feature_drop\", DataframeFeatureDrop([\"poutcome\"])),\n",
    "    (\"feature_map\", DataframeFeatureMapping(**maps)),\n",
    "    (\"categorical_enc\", DataframeCategoricalEncoding([\"job\", \"marital\", \"contact\"]))\n",
    "])\n",
    "X_train2 = trn_pipe.fit_transform(X_train)\n",
    "X_train_clean, y_train_clean = remove_outliers(X_train2.values, y_train)"
   ]
  },
  {
   "cell_type": "markdown",
   "metadata": {},
   "source": [
    "### Baseline Models"
   ]
  },
  {
   "cell_type": "code",
   "execution_count": 630,
   "metadata": {
    "collapsed": true
   },
   "outputs": [],
   "source": [
    "from sklearn.svm import LinearSVC\n",
    "from sklearn.ensemble import RandomForestClassifier\n",
    "from sklearn.ensemble import GradientBoostingClassifier"
   ]
  },
  {
   "cell_type": "markdown",
   "metadata": {},
   "source": [
    "#### SVC + scaling"
   ]
  },
  {
   "cell_type": "code",
   "execution_count": 615,
   "metadata": {
    "collapsed": true
   },
   "outputs": [],
   "source": [
    "from sklearn.preprocessing import StandardScaler\n",
    "\n",
    "svc_pipeline = Pipeline([\n",
    "    (\"scaler\", StandardScaler()),\n",
    "    (\"svc\", LinearSVC(random_state=41, loss=\"hinge\"))\n",
    "])\n",
    "\n",
    "# Training\n",
    "svc_pipeline.fit(X_train_clean, y_train_clean)    \n",
    "\n",
    "# Test Data Preprocessing\n",
    "X_test2 = trn_pipe.transform(X_test)\n",
    "\n",
    "# Predictions\n",
    "y_train_pred = svc_pipeline.predict(X_train_clean) # In-sample pred\n",
    "y_test_pred = svc_pipeline.predict(X_test2)        # Out-of-sample pred\n",
    "\n",
    "# Accuracy Scores\n",
    "svc_scaled_res = in_out_accuracy(svc_pipeline, \n",
    "                                 y_train_clean, y_train_pred,\n",
    "                                 y_test, y_test_pred)"
   ]
  },
  {
   "cell_type": "code",
   "execution_count": 620,
   "metadata": {},
   "outputs": [
    {
     "name": "stdout",
     "output_type": "stream",
     "text": [
      "Training Acc: 0.8888714528573297, Testing Acc: 0.8774878372401592\n",
      "\n",
      "              precision    recall  f1-score   support\n",
      "\n",
      "           0       0.88      1.00      0.93      3968\n",
      "           1       0.00      0.00      0.00       554\n",
      "\n",
      "   micro avg       0.88      0.88      0.88      4522\n",
      "   macro avg       0.44      0.50      0.47      4522\n",
      "weighted avg       0.77      0.88      0.82      4522\n",
      "\n"
     ]
    }
   ],
   "source": [
    "display_accuracy(svc_scaled_res)\n",
    "\n",
    "print()\n",
    "\n",
    "print(classification_report(y_test.reshape(-1), y_test_pred,\n",
    "                            target_names=[\"0\", \"1\"]))"
   ]
  },
  {
   "cell_type": "markdown",
   "metadata": {},
   "source": [
    "#### SVC + weighted class initialisation"
   ]
  },
  {
   "cell_type": "code",
   "execution_count": 623,
   "metadata": {
    "collapsed": true
   },
   "outputs": [],
   "source": [
    "svc_pipeline = Pipeline([\n",
    "    (\"svc\", LinearSVC(random_state=41, class_weight=\"balanced\", loss=\"hinge\"))\n",
    "])\n",
    "\n",
    "# Training\n",
    "svc_pipeline.fit(X_train_clean, y_train_clean)    \n",
    "\n",
    "# Test Data Preprocessing\n",
    "X_test2 = trn_pipe.transform(X_test)\n",
    "\n",
    "# Predictions\n",
    "y_train_pred = svc_pipeline.predict(X_train_clean) # In-sample pred\n",
    "y_test_pred = svc_pipeline.predict(X_test2)        # Out-of-sample pred\n",
    "\n",
    "# Accuracy Scores\n",
    "svc_weighted_class_res = in_out_accuracy(svc_pipeline, \n",
    "                                         y_train_clean, y_train_pred,\n",
    "                                         y_test, y_test_pred)"
   ]
  },
  {
   "cell_type": "code",
   "execution_count": 624,
   "metadata": {},
   "outputs": [
    {
     "name": "stdout",
     "output_type": "stream",
     "text": [
      "Training Acc: 0.8914607035438734, Testing Acc: 0.8794781070322866\n",
      "\n",
      "              precision    recall  f1-score   support\n",
      "\n",
      "           0       0.89      0.99      0.93      3968\n",
      "           1       0.54      0.11      0.18       554\n",
      "\n",
      "   micro avg       0.88      0.88      0.88      4522\n",
      "   macro avg       0.71      0.55      0.56      4522\n",
      "weighted avg       0.85      0.88      0.84      4522\n",
      "\n"
     ]
    }
   ],
   "source": [
    "display_accuracy(svc_weighted_class_res)\n",
    "\n",
    "print()\n",
    "\n",
    "print(classification_report(y_test.reshape(-1), y_test_pred,\n",
    "                            target_names=[\"0\", \"1\"]))"
   ]
  },
  {
   "cell_type": "markdown",
   "metadata": {},
   "source": [
    "#### SVC + ENN"
   ]
  },
  {
   "cell_type": "code",
   "execution_count": 230,
   "metadata": {},
   "outputs": [
    {
     "name": "stdout",
     "output_type": "stream",
     "text": [
      "Requirement already satisfied: imblearn in /Users/rajatrasal/anaconda3/envs/crypto_time_series/lib/python3.6/site-packages (0.0)\n",
      "Requirement already satisfied: imbalanced-learn in /Users/rajatrasal/anaconda3/envs/crypto_time_series/lib/python3.6/site-packages (from imblearn) (0.4.3)\n",
      "Requirement already satisfied: scikit-learn>=0.20 in /Users/rajatrasal/anaconda3/envs/crypto_time_series/lib/python3.6/site-packages (from imbalanced-learn->imblearn) (0.20.1)\n",
      "Requirement already satisfied: numpy>=1.8.2 in /Users/rajatrasal/anaconda3/envs/crypto_time_series/lib/python3.6/site-packages (from imbalanced-learn->imblearn) (1.15.4)\n",
      "Requirement already satisfied: scipy>=0.13.3 in /Users/rajatrasal/anaconda3/envs/crypto_time_series/lib/python3.6/site-packages (from imbalanced-learn->imblearn) (1.1.0)\n"
     ]
    }
   ],
   "source": [
    "import sys\n",
    "!{sys.executable} -m pip install imblearn"
   ]
  },
  {
   "cell_type": "code",
   "execution_count": 628,
   "metadata": {
    "collapsed": true
   },
   "outputs": [],
   "source": [
    "from imblearn.over_sampling import SMOTE\n",
    "from imblearn.under_sampling import EditedNearestNeighbours\n",
    "from imblearn.pipeline import make_pipeline\n",
    "\n",
    "svc_enn_pipeline = make_pipeline(\n",
    "    EditedNearestNeighbours(n_neighbors=6),\n",
    "    LinearSVC(random_state=41, class_weight=\"balanced\", loss=\"hinge\")\n",
    ")\n",
    "\n",
    "# Training\n",
    "svc_enn_pipeline.fit(X_train_clean, y_train_clean)    \n",
    "\n",
    "# Test Data Preprocessing\n",
    "X_test2 = trn_pipe.transform(X_test)\n",
    "\n",
    "# Predictions\n",
    "y_train_pred = svc_enn_pipeline.predict(X_train_clean) # In-sample pred\n",
    "y_test_pred = svc_enn_pipeline.predict(X_test2)        # Out-of-sample pred\n",
    "\n",
    "# Accuracy Scores\n",
    "svc_enn_res = in_out_accuracy(svc_enn_pipeline,\n",
    "                              y_train_clean, y_train_pred,\n",
    "                              y_test, y_test_pred)"
   ]
  },
  {
   "cell_type": "code",
   "execution_count": 629,
   "metadata": {},
   "outputs": [
    {
     "name": "stdout",
     "output_type": "stream",
     "text": [
      "Training Acc: 0.8932914868575912, Testing Acc: 0.8794781070322866\n",
      "\n",
      "              precision    recall  f1-score   support\n",
      "\n",
      "           0       0.89      0.98      0.93      3968\n",
      "           1       0.53      0.15      0.23       554\n",
      "\n",
      "   micro avg       0.88      0.88      0.88      4522\n",
      "   macro avg       0.71      0.56      0.58      4522\n",
      "weighted avg       0.85      0.88      0.85      4522\n",
      "\n"
     ]
    }
   ],
   "source": [
    "display_accuracy(svc_enn_res)\n",
    "\n",
    "print()\n",
    "\n",
    "print(classification_report(y_test.reshape(-1), y_test_pred,\n",
    "                            target_names=[\"0\", \"1\"]))"
   ]
  },
  {
   "cell_type": "markdown",
   "metadata": {},
   "source": [
    "#### Random Forest"
   ]
  },
  {
   "cell_type": "markdown",
   "metadata": {},
   "source": [
    "Useful model for data with imbalance."
   ]
  },
  {
   "cell_type": "code",
   "execution_count": 631,
   "metadata": {
    "collapsed": true
   },
   "outputs": [],
   "source": [
    "rdm_forest = RandomForestClassifier(max_depth=50, n_estimators=50, random_state=42,\n",
    "                                    n_jobs=-1, max_features=\"sqrt\")\n",
    "\n",
    "# Training\n",
    "rdm_forest.fit(X_train_clean, y_train_clean)  \n",
    "\n",
    "# Test Data Preprocessing\n",
    "X_test2 = trn_pipe.transform(X_test)\n",
    "\n",
    "# Predictions\n",
    "y_train_pred = rdm_forest.predict(X_train_clean) # In-sample pred\n",
    "y_test_pred = rdm_forest.predict(X_test2)        # Out-of-sample pred\n",
    "\n",
    "# Accuracy Scores\n",
    "rdm_forest_res = in_out_accuracy(rdm_forest,\n",
    "                                 y_train_clean, y_train_pred,\n",
    "                                 y_test, y_test_pred)"
   ]
  },
  {
   "cell_type": "code",
   "execution_count": 632,
   "metadata": {},
   "outputs": [
    {
     "name": "stdout",
     "output_type": "stream",
     "text": [
      "Training Acc: 0.9996861514319341, Testing Acc: 0.8971693940734189\n",
      "\n",
      "              precision    recall  f1-score   support\n",
      "\n",
      "           0       0.92      0.97      0.94      3968\n",
      "           1       0.64      0.37      0.47       554\n",
      "\n",
      "   micro avg       0.90      0.90      0.90      4522\n",
      "   macro avg       0.78      0.67      0.71      4522\n",
      "weighted avg       0.88      0.90      0.89      4522\n",
      "\n"
     ]
    }
   ],
   "source": [
    "display_accuracy(rdm_forest_res)\n",
    "\n",
    "print()\n",
    "\n",
    "print(classification_report(y_test.reshape(-1), y_test_pred,\n",
    "                            target_names=[\"0\", \"1\"]))"
   ]
  },
  {
   "cell_type": "markdown",
   "metadata": {},
   "source": [
    "#### Random Forest + ENN"
   ]
  },
  {
   "cell_type": "code",
   "execution_count": 633,
   "metadata": {
    "collapsed": true
   },
   "outputs": [],
   "source": [
    "rdm_forest_enn_pipeline = make_pipeline(\n",
    "    EditedNearestNeighbours(n_neighbors=1),\n",
    "    RandomForestClassifier(max_depth=50, n_estimators=50, random_state=42,\n",
    "                           n_jobs=-1, max_features=\"sqrt\")\n",
    ")\n",
    "\n",
    "# Training\n",
    "rdm_forest_enn_pipeline.fit(X_train_clean, y_train_clean)  \n",
    "\n",
    "# Test Data Preprocessing\n",
    "X_test2 = trn_pipe.transform(X_test)\n",
    "\n",
    "# Predictions\n",
    "y_train_pred = rdm_forest_enn_pipeline.predict(X_train_clean) # In-sample pred\n",
    "y_test_pred = rdm_forest_enn_pipeline.predict(X_test2)        # Out-of-sample pred\n",
    "\n",
    "# Accuracy Scores\n",
    "rdm_forest_res = in_out_accuracy(rdm_forest_enn_pipeline,\n",
    "                                 y_train_clean, y_train_pred,\n",
    "                                 y_test, y_test_pred)"
   ]
  },
  {
   "cell_type": "code",
   "execution_count": 634,
   "metadata": {},
   "outputs": [
    {
     "name": "stdout",
     "output_type": "stream",
     "text": [
      "Training Acc: 0.982738328756375, Testing Acc: 0.8996019460415745\n",
      "\n",
      "              precision    recall  f1-score   support\n",
      "\n",
      "           0       0.94      0.95      0.94      3968\n",
      "           1       0.60      0.55      0.57       554\n",
      "\n",
      "   micro avg       0.90      0.90      0.90      4522\n",
      "   macro avg       0.77      0.75      0.76      4522\n",
      "weighted avg       0.90      0.90      0.90      4522\n",
      "\n"
     ]
    }
   ],
   "source": [
    "display_accuracy(rdm_forest_res)\n",
    "\n",
    "print()\n",
    "\n",
    "print(classification_report(y_test.reshape(-1), y_test_pred,\n",
    "                            target_names=[\"0\", \"1\"]))"
   ]
  },
  {
   "cell_type": "markdown",
   "metadata": {},
   "source": [
    "#### Gradient Boosting Classifier"
   ]
  },
  {
   "cell_type": "code",
   "execution_count": 637,
   "metadata": {},
   "outputs": [
    {
     "name": "stdout",
     "output_type": "stream",
     "text": [
      "      Iter       Train Loss      OOB Improve   Remaining Time \n",
      "         1           0.6761           0.0163            4.91m\n",
      "         2           0.6798           0.0140            4.64m\n",
      "         3           0.6567           0.0133            4.64m\n",
      "         4           0.6290           0.0116            4.69m\n",
      "         5           0.6364           0.0096            4.65m\n",
      "         6           0.6196           0.0089            4.67m\n",
      "         7           0.6069           0.0085            4.70m\n",
      "         8           0.6039           0.0074            4.73m\n",
      "         9           0.5903           0.0064            4.67m\n",
      "        10           0.5897           0.0070            4.67m\n",
      "        20           0.5425           0.0036            4.49m\n",
      "        30           0.5295           0.0023            4.45m\n",
      "        40           0.4949           0.0010            4.41m\n",
      "        50           0.4857           0.0010            4.37m\n",
      "        60           0.4765           0.0010            4.35m\n",
      "        70           0.4631           0.0004            4.34m\n",
      "        80           0.4658           0.0003            4.32m\n",
      "        90           0.4576           0.0009            4.32m\n",
      "       100           0.4514           0.0001            4.32m\n",
      "       200           0.4140          -0.0000            4.18m\n",
      "       300           0.3972           0.0000            4.02m\n",
      "       400           0.3891           0.0001            3.93m\n",
      "       500           0.3803          -0.0000            3.82m\n",
      "       600           0.3808          -0.0001            3.75m\n",
      "       700           0.3671          -0.0000            3.67m\n",
      "       800           0.3579          -0.0001            3.61m\n",
      "       900           0.3532          -0.0001            3.55m\n",
      "      1000           0.3587          -0.0000            3.49m\n",
      "      2000           0.3161          -0.0000            2.97m\n",
      "      3000           0.2888          -0.0001            2.53m\n",
      "      4000           0.2556          -0.0000            2.10m\n",
      "      5000           0.2373          -0.0000            1.68m\n",
      "      6000           0.2224          -0.0000            1.26m\n",
      "      7000           0.2067          -0.0000           50.22s\n",
      "      8000           0.1861          -0.0000           25.23s\n",
      "      9000           0.1792          -0.0000            0.00s\n"
     ]
    }
   ],
   "source": [
    "gb_clf = GradientBoostingClassifier(n_estimators=9000, learning_rate=0.04, subsample=0.4,\n",
    "                                     random_state=42, verbose=1, max_leaf_nodes=8, max_depth=3)\n",
    "\n",
    "# Training\n",
    "gb_clf.fit(X_train_clean, y_train_clean)  \n",
    "\n",
    "# Test Data Preprocessing\n",
    "X_test2 = trn_pipe.transform(X_test)\n",
    "\n",
    "# Predictions\n",
    "y_train_pred = gb_clf.predict(X_train_clean) # In-sample pred\n",
    "y_test_pred = gb_clf.predict(X_test2)        # Out-of-sample pred\n",
    "\n",
    "# Accuracy Scores\n",
    "gb_clf_res = in_out_accuracy(gb_clf,\n",
    "                             y_train_clean, y_train_pred,\n",
    "                             y_test, y_test_pred)"
   ]
  },
  {
   "cell_type": "code",
   "execution_count": 638,
   "metadata": {},
   "outputs": [
    {
     "name": "stdout",
     "output_type": "stream",
     "text": [
      "Training Acc: 0.974342879560612, Testing Acc: 0.9022556390977443\n",
      "\n",
      "              precision    recall  f1-score   support\n",
      "\n",
      "           0       0.93      0.96      0.95      3968\n",
      "           1       0.63      0.50      0.56       554\n",
      "\n",
      "   micro avg       0.90      0.90      0.90      4522\n",
      "   macro avg       0.78      0.73      0.75      4522\n",
      "weighted avg       0.89      0.90      0.90      4522\n",
      "\n"
     ]
    }
   ],
   "source": [
    "display_accuracy(gb_clf_res)\n",
    "\n",
    "print()\n",
    "\n",
    "print(classification_report(y_test.reshape(-1), y_test_pred,\n",
    "                            target_names=[\"0\", \"1\"]))"
   ]
  },
  {
   "cell_type": "markdown",
   "metadata": {},
   "source": [
    "#### Gradient Boosting Classifier + ENN"
   ]
  },
  {
   "cell_type": "code",
   "execution_count": 641,
   "metadata": {},
   "outputs": [
    {
     "name": "stdout",
     "output_type": "stream",
     "text": [
      "      Iter       Train Loss      OOB Improve   Remaining Time \n",
      "         1           0.7490           0.0092           46.72s\n",
      "         2           0.7365           0.0186           44.38s\n",
      "         3           0.7107           0.0183           45.75s\n",
      "         4           0.7142           0.0056           45.96s\n",
      "         5           0.6940           0.0163           46.58s\n",
      "         6           0.6777           0.0038           47.08s\n",
      "         7           0.6871           0.0128           47.25s\n",
      "         8           0.6727           0.0056           47.55s\n",
      "         9           0.6537           0.0141           47.45s\n",
      "        10           0.6473           0.0080           47.85s\n",
      "        20           0.5839           0.0022           47.51s\n",
      "        30           0.5411           0.0056           49.20s\n",
      "        40           0.5235           0.0016           48.67s\n",
      "        50           0.4988           0.0028           48.88s\n",
      "        60           0.4813           0.0009           48.24s\n",
      "        70           0.4618           0.0025           47.66s\n",
      "        80           0.4510           0.0005           47.33s\n",
      "        90           0.4390           0.0007           47.10s\n",
      "       100           0.4318           0.0008           46.74s\n",
      "       200           0.3810           0.0001           44.21s\n",
      "       300           0.3682           0.0001           42.62s\n",
      "       400           0.3574          -0.0000           40.88s\n",
      "       500           0.3464           0.0000           39.35s\n",
      "       600           0.3373          -0.0000           37.97s\n",
      "       700           0.3296          -0.0000           36.65s\n",
      "       800           0.3311           0.0001           35.38s\n",
      "       900           0.3108           0.0000           34.12s\n",
      "      1000           0.3099           0.0000           32.96s\n",
      "      2000           0.2694           0.0000           21.66s\n",
      "      3000           0.2497          -0.0000           10.74s\n",
      "      4000           0.2276          -0.0000            0.00s\n"
     ]
    }
   ],
   "source": [
    "gb_clf_enn_pipeline = make_pipeline(\n",
    "    EditedNearestNeighbours(n_neighbors=2),\n",
    "    GradientBoostingClassifier(n_estimators=4000, learning_rate=0.04, \n",
    "                               subsample=0.4, max_features=2, random_state=42,\n",
    "                               verbose=1, max_leaf_nodes=8, max_depth=4)\n",
    ")\n",
    "\n",
    "# Training\n",
    "gb_clf_enn_pipeline.fit(X_train_clean, y_train_clean)  \n",
    "\n",
    "# Test Data Preprocessing\n",
    "X_test2 = trn_pipe.transform(X_test)\n",
    "\n",
    "# Predictions\n",
    "y_train_pred = gb_clf_enn_pipeline.predict(X_train_clean) # In-sample pred\n",
    "y_test_pred = gb_clf_enn_pipeline.predict(X_test2)        # Out-of-sample pred\n",
    "\n",
    "# Accuracy Scores\n",
    "gb_clf_enn_res = in_out_accuracy(gb_clf_enn_pipeline,\n",
    "                                 y_train_clean, y_train_pred,\n",
    "                                 y_test, y_test_pred)"
   ]
  },
  {
   "cell_type": "code",
   "execution_count": 642,
   "metadata": {},
   "outputs": [
    {
     "name": "stdout",
     "output_type": "stream",
     "text": [
      "Training Acc: 0.9277102131554859, Testing Acc: 0.9022556390977443\n",
      "\n",
      "              precision    recall  f1-score   support\n",
      "\n",
      "           0       0.96      0.93      0.94      3968\n",
      "           1       0.59      0.69      0.63       554\n",
      "\n",
      "   micro avg       0.90      0.90      0.90      4522\n",
      "   macro avg       0.77      0.81      0.79      4522\n",
      "weighted avg       0.91      0.90      0.91      4522\n",
      "\n"
     ]
    }
   ],
   "source": [
    "display_accuracy(gb_clf_enn_res)\n",
    "\n",
    "print()\n",
    "\n",
    "print(classification_report(y_test.reshape(-1), y_test_pred,\n",
    "                            target_names=[\"0\", \"1\"]))"
   ]
  },
  {
   "cell_type": "markdown",
   "metadata": {},
   "source": [
    "### Feature Importance"
   ]
  },
  {
   "cell_type": "code",
   "execution_count": 643,
   "metadata": {},
   "outputs": [
    {
     "name": "stdout",
     "output_type": "stream",
     "text": [
      "[0.0, 0.010421328478707935, 0.02303689494421233, 0.023137885329257885, 0.027285184072775373, 0.027599600082833874, 0.028073312366962103, 0.04043078918422812, 0.05273555077808804, 0.06316999213575981, 0.09195897846678572, 0.10320138403863705, 0.11309388635152207, 0.11510918664399729, 0.28074602712623237]\n"
     ]
    },
    {
     "data": {
      "text/plain": [
       "[]"
      ]
     },
     "execution_count": 643,
     "metadata": {},
     "output_type": "execute_result"
    },
    {
     "data": {
      "image/png": "[encoded data removed]",
      "text/plain": [
       "<Figure size 1440x720 with 1 Axes>"
      ]
     },
     "metadata": {},
     "output_type": "display_data"
    }
   ],
   "source": [
    "feature_importance = zip(X_train.columns, rdm_forest.feature_importances_)\n",
    "print(sorted(rdm_forest.feature_importances_))\n",
    "bar_plot = sorted(feature_importance, key=lambda x: x[1], reverse=True)\n",
    "y_ticks = [y for _, y in bar_plot]\n",
    "x_ticks = [x for x, _ in bar_plot]\n",
    "plt.rcParams['figure.figsize'] = (20, 10)\n",
    "plt.bar(x_ticks, y_ticks)\n",
    "plt.plot()"
   ]
  },
  {
   "cell_type": "markdown",
   "metadata": {},
   "source": [
    "### Model Comparison"
   ]
  },
  {
   "cell_type": "markdown",
   "metadata": {},
   "source": [
    "Comparison of ROC curves + table of in and out sample accuracy"
   ]
  },
  {
   "cell_type": "markdown",
   "metadata": {},
   "source": [
    "### Final Model"
   ]
  },
  {
   "cell_type": "markdown",
   "metadata": {},
   "source": [
    "Based on the feature importance, we can use the **`SelectFromModel`** wrapper to remove less significant features. "
   ]
  },
  {
   "cell_type": "code",
   "execution_count": 645,
   "metadata": {
    "collapsed": true
   },
   "outputs": [],
   "source": [
    "from sklearn.feature_selection import SelectFromModel\n",
    "from imblearn.over_sampling import SMOTE\n",
    "\n",
    "# Base Estimator for Feature Importance Model\n",
    "feat_importance_pipeline = RandomForestClassifier(max_depth=50, n_estimators=50,\n",
    "                                                  random_state=42, n_jobs=-1,\n",
    "                                                  max_features=\"sqrt\")\n",
    "feat_importance_pipeline.fit(X_train_clean, y_train_clean)\n",
    "\n",
    "# Model\n",
    "pipeline = make_pipeline(\n",
    "    SMOTE(n_jobs=-1, k_neighbors=4, random_state=45),\n",
    "    SelectFromModel(feat_importance_pipeline, threshold=0.01),  # 0.25\n",
    "    GradientBoostingClassifier(n_estimators=10000, learning_rate=0.042, subsample=0.4,\n",
    "                               max_features=2, random_state=42, verbose=0,\n",
    "                               max_leaf_nodes=8, max_depth=4)\n",
    ")\n",
    "\n",
    "# Training\n",
    "pipeline.fit(X_train_clean, y_train_clean)\n",
    "\n",
    "# Test Data Preprocessing\n",
    "X_test2 = trn_pipe.transform(X_test)\n",
    "\n",
    "# Predictions\n",
    "y_train_pred = pipeline.predict(X_train_clean) # In-sample pred\n",
    "y_test_pred = pipeline.predict(X_test2)        # Out-of-sample pred\n",
    "\n",
    "# Accuracy Scores\n",
    "pipeline_res = in_out_accuracy(pipeline,\n",
    "                               y_train_clean, y_train_pred,\n",
    "                               y_test, y_test_pred)"
   ]
  },
  {
   "cell_type": "code",
   "execution_count": 646,
   "metadata": {},
   "outputs": [
    {
     "name": "stdout",
     "output_type": "stream",
     "text": [
      "Training Acc: 0.9615797044592651, Testing Acc: 0.8998230871295887\n",
      "\n",
      "              precision    recall  f1-score   support\n",
      "\n",
      "           0       0.93      0.96      0.94      3968\n",
      "           1       0.62      0.49      0.54       554\n",
      "\n",
      "   micro avg       0.90      0.90      0.90      4522\n",
      "   macro avg       0.77      0.72      0.74      4522\n",
      "weighted avg       0.89      0.90      0.89      4522\n",
      "\n"
     ]
    }
   ],
   "source": [
    "display_accuracy(pipeline_res)\n",
    "\n",
    "print()\n",
    "\n",
    "print(classification_report(y_test.reshape(-1), y_test_pred,\n",
    "                            target_names=[\"0\", \"1\"]))"
   ]
  },
  {
   "cell_type": "markdown",
   "metadata": {},
   "source": [
    "## <span id='tuning'> Tuning </span>"
   ]
  },
  {
   "cell_type": "markdown",
   "metadata": {},
   "source": [
    "### Grid Search"
   ]
  },
  {
   "cell_type": "code",
   "execution_count": 570,
   "metadata": {
    "collapsed": true
   },
   "outputs": [],
   "source": [
    "# from sklearn.model_selection import GridSearchCV\n",
    "\n",
    "# params_dict = {\"smote__random_state\": [42], \"smote__k_neighbors\": [3, 4, 5],\n",
    "#                \"gradientboostingclassifier__n_estimators\": [5000, 6500, 8000],\n",
    "#                \"gradientboostingclassifier__learning_rate\": [0.04, 0.05]}\n",
    "\n",
    "# gridsearch = GridSearchCV(pipeline, params_dict, scoring=\"accuracy\", \n",
    "#                           n_jobs=-1, verbose=10)\n",
    "# gridsearch.fit(X_train_clean, y_train_clean)"
   ]
  },
  {
   "cell_type": "markdown",
   "metadata": {},
   "source": [
    "![](./grid_search_res.png)"
   ]
  },
  {
   "cell_type": "code",
   "execution_count": 535,
   "metadata": {
    "collapsed": true
   },
   "outputs": [],
   "source": [
    "# import pickle\n",
    "\n",
    "# pickle.dump(gridsearch, open(\"./gridsearch.pickle\", \"wb\"))"
   ]
  },
  {
   "cell_type": "code",
   "execution_count": 647,
   "metadata": {
    "collapsed": true
   },
   "outputs": [],
   "source": [
    "import pickle\n",
    "\n",
    "gridsearch = pickle.load(open(\"./gridsearch.pickle\", \"rb\"))"
   ]
  },
  {
   "cell_type": "code",
   "execution_count": 648,
   "metadata": {},
   "outputs": [
    {
     "data": {
      "text/plain": [
       "{'gradientboostingclassifier__learning_rate': 0.04,\n",
       " 'gradientboostingclassifier__n_estimators': 5000,\n",
       " 'smote__k_neighbors': 4,\n",
       " 'smote__random_state': 42}"
      ]
     },
     "execution_count": 648,
     "metadata": {},
     "output_type": "execute_result"
    }
   ],
   "source": [
    "gridsearch.best_params_"
   ]
  },
  {
   "cell_type": "code",
   "execution_count": 653,
   "metadata": {
    "collapsed": true
   },
   "outputs": [],
   "source": [
    "X_test2 = trn_pipe.transform(X_test)\n",
    "\n",
    "y_train_pred = gridsearch.best_estimator_.predict(X_train_clean)\n",
    "y_test_pred = gridsearch.best_estimator_.predict(X_test2)\n",
    "\n",
    "pipeline_res = in_out_accuracy(pipeline,\n",
    "                               y_train_clean, y_train_pred,\n",
    "                               y_test, y_test_pred)"
   ]
  },
  {
   "cell_type": "code",
   "execution_count": 654,
   "metadata": {},
   "outputs": [
    {
     "name": "stdout",
     "output_type": "stream",
     "text": [
      "Training Acc: 0.9422780175232117, Testing Acc: 0.8998230871295887\n",
      "\n",
      "              precision    recall  f1-score   support\n",
      "\n",
      "           0       0.93      0.96      0.94      3968\n",
      "           1       0.62      0.49      0.54       554\n",
      "\n",
      "   micro avg       0.90      0.90      0.90      4522\n",
      "   macro avg       0.77      0.72      0.74      4522\n",
      "weighted avg       0.89      0.90      0.89      4522\n",
      "\n"
     ]
    }
   ],
   "source": [
    "display_accuracy(pipeline_res)\n",
    "\n",
    "print()\n",
    "\n",
    "print(classification_report(y_test.reshape(-1), y_test_pred,\n",
    "                            target_names=[\"0\", \"1\"]))"
   ]
  },
  {
   "cell_type": "markdown",
   "metadata": {
    "collapsed": true
   },
   "source": [
    "### Bayesian Search"
   ]
  },
  {
   "cell_type": "code",
   "execution_count": 546,
   "metadata": {},
   "outputs": [
    {
     "name": "stdout",
     "output_type": "stream",
     "text": [
      "Collecting scikit-optimize\n",
      "\u001b[?25l  Downloading https://files.pythonhosted.org/packages/f4/44/60f82c97d1caa98752c7da2c1681cab5c7a390a0fdd3a55fac672b321cac/scikit_optimize-0.5.2-py2.py3-none-any.whl (74kB)\n",
      "\u001b[K    100% |████████████████████████████████| 81kB 6.2MB/s ta 0:00:01\n",
      "\u001b[?25hRequirement already satisfied: scikit-learn>=0.19.1 in /Users/rajatrasal/anaconda3/envs/crypto_time_series/lib/python3.6/site-packages (from scikit-optimize) (0.20.1)\n",
      "Requirement already satisfied: numpy in /Users/rajatrasal/anaconda3/envs/crypto_time_series/lib/python3.6/site-packages (from scikit-optimize) (1.15.4)\n",
      "Requirement already satisfied: scipy>=0.14.0 in /Users/rajatrasal/anaconda3/envs/crypto_time_series/lib/python3.6/site-packages (from scikit-optimize) (1.1.0)\n",
      "Installing collected packages: scikit-optimize\n",
      "Successfully installed scikit-optimize-0.5.2\n"
     ]
    }
   ],
   "source": [
    "import sys\n",
    "!{sys.executable} -m pip install scikit-optimize"
   ]
  },
  {
   "cell_type": "code",
   "execution_count": 562,
   "metadata": {
    "collapsed": true
   },
   "outputs": [],
   "source": [
    "from sklearn.model_selection import StratifiedKFold, cross_val_score\n",
    "from skopt.space import Real, Integer\n",
    "from skopt.utils import use_named_args\n",
    "\n",
    "learning_rate_name = \"gradientboostingclassifier__learning_rate\"\n",
    "space = [Real(0.02, 0.08, \"log-uniform\", name=learning_rate_name)]\n",
    "\n",
    "# Model params manually set with grid search params\n",
    "model = make_pipeline(\n",
    "    SMOTE(n_jobs=-1, k_neighbors=4, random_state=42),\n",
    "    SelectFromModel(feat_importance_pipeline, threshold=0.01),\n",
    "    GradientBoostingClassifier(n_estimators=5000, subsample=0.4, \n",
    "                               max_features=2, random_state=42, \n",
    "                               verbose=1, max_leaf_nodes=8, max_depth=4)\n",
    ")\n",
    "\n",
    "@use_named_args(space)\n",
    "def objective(**params):\n",
    "    print(f\"Choosen learning rate: {params[learning_rate_name]}\")\n",
    "    \n",
    "    # Setting tuning params\n",
    "    model.set_params(**params)\n",
    "    \n",
    "    # Training and Scoring\n",
    "    cv = StratifiedKFold(n_splits=3, shuffle=True, random_state=42)\n",
    "    scores = cross_val_score(model, X_train_clean, y_train_clean,\n",
    "                             cv=cv, n_jobs=-1, verbose=10)\n",
    "    \n",
    "    return -np.mean(scores)"
   ]
  },
  {
   "cell_type": "code",
   "execution_count": 567,
   "metadata": {
    "collapsed": true
   },
   "outputs": [],
   "source": [
    "# from skopt import gp_minimize\n",
    "\n",
    "# res_gp = gp_minimize(objective, space, n_calls=30,\n",
    "#                      random_state=0, n_jobs=-2, verbose=10)"
   ]
  },
  {
   "cell_type": "markdown",
   "metadata": {},
   "source": [
    "![](./bayesian_search_res.png)"
   ]
  },
  {
   "cell_type": "code",
   "execution_count": 565,
   "metadata": {
    "collapsed": true
   },
   "outputs": [],
   "source": [
    "# import pickle\n",
    "\n",
    "# pickle.dump(res_gp, open(\"./res_gp.pickle\", \"wb\"))"
   ]
  },
  {
   "cell_type": "code",
   "execution_count": 659,
   "metadata": {
    "collapsed": true
   },
   "outputs": [],
   "source": [
    "from skopt.plots import plot_convergence\n",
    "\n",
    "res_gp = pickle.load(open(\"./res_gp.pickle\", \"rb\"))\n",
    "\n",
    "# plot_convergence(res_gp)\n",
    "# plt.plot()"
   ]
  },
  {
   "cell_type": "markdown",
   "metadata": {},
   "source": [
    "Optimal hyperparameters:\n",
    "\n",
    ">```\n",
    "{'gradientboostingclassifier__learning_rate': 0.0482922,\n",
    " 'gradientboostingclassifier__n_estimators': 5000,\n",
    " 'smote__k_neighbors': 4,\n",
    " 'smote__random_state': 42}\n",
    "```"
   ]
  },
  {
   "cell_type": "markdown",
   "metadata": {},
   "source": [
    "## <span id=\"evaluation\"> Final Evaluation </span>"
   ]
  },
  {
   "cell_type": "code",
   "execution_count": 656,
   "metadata": {},
   "outputs": [
    {
     "name": "stdout",
     "output_type": "stream",
     "text": [
      "      Iter       Train Loss      OOB Improve   Remaining Time \n",
      "         1           1.3513           0.0344            1.93m\n",
      "         2           1.3200           0.0319            2.00m\n",
      "         3           1.2963           0.0231            2.03m\n",
      "         4           1.2704           0.0246            2.05m\n",
      "         5           1.2395           0.0319            2.11m\n",
      "         6           1.2189           0.0219            2.12m\n",
      "         7           1.1983           0.0187            2.11m\n",
      "         8           1.1780           0.0213            2.11m\n",
      "         9           1.1533           0.0229            2.13m\n",
      "        10           1.1343           0.0194            2.13m\n",
      "        20           0.9571           0.0159            2.09m\n",
      "        30           0.8415           0.0075            2.09m\n",
      "        40           0.7379           0.0105            2.10m\n",
      "        50           0.6782           0.0046            2.11m\n",
      "        60           0.6263           0.0040            2.08m\n",
      "        70           0.5856           0.0025            2.08m\n",
      "        80           0.5467           0.0040            2.08m\n",
      "        90           0.5182           0.0039            2.08m\n",
      "       100           0.4955           0.0022            2.09m\n",
      "       200           0.3613           0.0005            2.03m\n",
      "       300           0.3174           0.0002            1.96m\n",
      "       400           0.2872           0.0002            1.91m\n",
      "       500           0.2686           0.0000            1.85m\n",
      "       600           0.2598           0.0000            1.80m\n",
      "       700           0.2510           0.0001            1.75m\n",
      "       800           0.2429           0.0000            1.70m\n",
      "       900           0.2365           0.0000            1.65m\n",
      "      1000           0.2278           0.0000            1.60m\n",
      "      2000           0.2728          -0.0000            1.17m\n",
      "      3000           0.1787          -0.0000           46.48s\n",
      "      4000           0.2009          -0.0000           23.10s\n",
      "      5000 159988769990.4304          -0.0000            0.00s\n"
     ]
    }
   ],
   "source": [
    "# Features Engineering\n",
    "trn_pipe = Pipeline([\n",
    "    (\"feature_drop\", DataframeFeatureDrop([\"poutcome\"])),\n",
    "    (\"feature_map\", DataframeFeatureMapping(**maps)),\n",
    "    (\"categorical_enc\", DataframeCategoricalEncoding([\"job\", \"marital\", \"contact\"]))\n",
    "])\n",
    "X_train2 = trn_pipe.fit_transform(X_train)\n",
    "\n",
    "# Removing Outliers\n",
    "X_train_clean, y_train_clean = remove_outliers(X_train2.values, y_train)\n",
    "\n",
    "# Feature Importance\n",
    "feat_importance_pipeline = RandomForestClassifier(max_depth=50, n_estimators=50,\n",
    "                                                  random_state=42, n_jobs=-1,\n",
    "                                                  max_features=\"sqrt\")\n",
    "feat_importance_pipeline.fit(X_train_clean, y_train_clean)\n",
    "\n",
    "# Classification Model\n",
    "model = make_pipeline(\n",
    "    SMOTE(n_jobs=-1, k_neighbors=4, random_state=42),\n",
    "    SelectFromModel(feat_importance_pipeline, threshold=0.01),\n",
    "    GradientBoostingClassifier(n_estimators=5000, subsample=0.4, \n",
    "                               max_features=2, random_state=42, \n",
    "                               verbose=1, max_leaf_nodes=8, \n",
    "                               max_depth=4, learning_rate=0.0482922)\n",
    ")\n",
    "\n",
    "# Training\n",
    "model.fit(X_train_clean, y_train_clean)\n",
    "\n",
    "# Test Data Preprocessing\n",
    "X_test2 = trn_pipe.transform(X_test)\n",
    "\n",
    "# Predictions\n",
    "y_train_pred = model.predict(X_train_clean) # In-sample pred\n",
    "y_test_pred = model.predict(X_test2)        # Out-of-sample pred\n",
    "\n",
    "# Accuracy Scores\n",
    "result = in_out_accuracy(model,\n",
    "                         y_train_clean, y_train_pred,\n",
    "                         y_test, y_test_pred)"
   ]
  },
  {
   "cell_type": "code",
   "execution_count": 657,
   "metadata": {},
   "outputs": [
    {
     "name": "stdout",
     "output_type": "stream",
     "text": [
      "Training Acc: 0.9454949653458873, Testing Acc: 0.9026979212737727\n",
      "\n",
      "              precision    recall  f1-score   support\n",
      "\n",
      "           0       0.93      0.96      0.95      3968\n",
      "           1       0.63      0.51      0.56       554\n",
      "\n",
      "   micro avg       0.90      0.90      0.90      4522\n",
      "   macro avg       0.78      0.73      0.75      4522\n",
      "weighted avg       0.90      0.90      0.90      4522\n",
      "\n"
     ]
    }
   ],
   "source": [
    "display_accuracy(result)\n",
    "\n",
    "print()\n",
    "\n",
    "print(classification_report(y_test.reshape(-1), y_test_pred,\n",
    "                            target_names=[\"0\", \"1\"]))"
   ]
  },
  {
   "cell_type": "code",
   "execution_count": 660,
   "metadata": {},
   "outputs": [
    {
     "data": {
      "text/plain": [
       "[]"
      ]
     },
     "execution_count": 660,
     "metadata": {},
     "output_type": "execute_result"
    },
    {
     "data": {
      "image/png": "[encoded data removed]",
      "text/plain": [
       "<Figure size 720x360 with 2 Axes>"
      ]
     },
     "metadata": {},
     "output_type": "display_data"
    }
   ],
   "source": [
    "from sklearn.metrics import confusion_matrix\n",
    "import itertools\n",
    "\n",
    "cm = confusion_matrix(y_test, y_test_pred)\n",
    "np.set_printoptions(precision=2)\n",
    "\n",
    "plt.figure(figsize=(10, 5))\n",
    "ax = sns.heatmap(cnf_matrix, annot=True, fmt=\"d\")\n",
    "\n",
    "ax.set_title(\"Normalised Confusion Matrix\")\n",
    "\n",
    "ax.set_ylabel('True label')\n",
    "ax.set_xlabel('Predicted label')\n",
    "\n",
    "plt.plot()"
   ]
  },
  {
   "cell_type": "markdown",
   "metadata": {},
   "source": [
    "## <span id=\"references\"> References </span>"
   ]
  },
  {
   "cell_type": "code",
   "execution_count": null,
   "metadata": {
    "collapsed": true
   },
   "outputs": [],
   "source": []
  }
 ],
 "metadata": {
  "kernelspec": {
   "display_name": "Python [conda env:crypto_time_series]",
   "language": "python",
   "name": "conda-env-crypto_time_series-py"
  },
  "language_info": {
   "codemirror_mode": {
    "name": "ipython",
    "version": 3
   },
   "file_extension": ".py",
   "mimetype": "text/x-python",
   "name": "python",
   "nbconvert_exporter": "python",
   "pygments_lexer": "ipython3",
   "version": "3.6.7"
  }
 },
 "nbformat": 4,
 "nbformat_minor": 2
}
